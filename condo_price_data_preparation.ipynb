{
  "nbformat": 4,
  "nbformat_minor": 0,
  "metadata": {
    "colab": {
      "provenance": [],
      "authorship_tag": "ABX9TyOKhPcYAwmpiPHEpmpjDdyw",
      "include_colab_link": true
    },
    "kernelspec": {
      "name": "python3",
      "display_name": "Python 3"
    },
    "language_info": {
      "name": "python"
    }
  },
  "cells": [
    {
      "cell_type": "markdown",
      "metadata": {
        "id": "view-in-github",
        "colab_type": "text"
      },
      "source": [
        "<a href=\"https://colab.research.google.com/github/Imppel-9704/condo-data-web-scraping-project/blob/master/condo_price_data_preparation.ipynb\" target=\"_parent\"><img src=\"https://colab.research.google.com/assets/colab-badge.svg\" alt=\"Open In Colab\"/></a>"
      ]
    },
    {
      "cell_type": "markdown",
      "source": [
        "# Rental condo data preparation.\n",
        "\n",
        "## Data Cleaning, Data Transformation\n",
        "What I'm going to do in this part is following below:\n",
        "- Data Preparation\n",
        "  - Adding Necessary Columns\n",
        "  - Removing Unwanted Columns\n",
        "  - Handling Missing Data\n",
        "  - Changing Data Types"
      ],
      "metadata": {
        "id": "mbkt1eqVE62E"
      }
    },
    {
      "cell_type": "markdown",
      "source": [
        "Import necessary library"
      ],
      "metadata": {
        "id": "woEhxwJs82v-"
      }
    },
    {
      "cell_type": "code",
      "source": [
        "import pandas as pd\n",
        "import numpy as np\n",
        "import re"
      ],
      "metadata": {
        "id": "Mnz6zwIDdgKg"
      },
      "execution_count": 43,
      "outputs": []
    },
    {
      "cell_type": "code",
      "execution_count": 44,
      "metadata": {
        "id": "o-AlW6ug7_np",
        "colab": {
          "base_uri": "https://localhost:8080/",
          "height": 504
        },
        "outputId": "06ec1c02-e8e1-4008-a6ab-d2d6f0c1acc8"
      },
      "outputs": [
        {
          "output_type": "execute_result",
          "data": {
            "text/plain": [
              "                                         name price_p_month  \\\n",
              "0  Supalai Loft @ Talat Phlu Station, Bangkok   ฿12,000 /mo   \n",
              "1                    ASHTON Morph 38, Bangkok   ฿60,000 /mo   \n",
              "2                         28 Chidlom, Bangkok   ฿95,000 /mo   \n",
              "3           Merlin Tower Condominium, Bangkok   ฿15,000 /mo   \n",
              "4                Life Sathorn Sierra, Bangkok   ฿13,000 /mo   \n",
              "\n",
              "                                             address  \\\n",
              "0  Ratchadaphisek Road, Talat Plu, Thon Buri, Ban...   \n",
              "1  88 Soi Sukhumvit 38, Phra Kanong, Khlong Toei,...   \n",
              "2   28 Chit Lom Alley, Lumphini, Pathum Wan, Bangkok   \n",
              "3  Soi Narathiwat 14 Sathon Road, Thung Wat Don, ...   \n",
              "4     Ratchaphruek Rd, Talat Plu, Thon Buri, Bangkok   \n",
              "\n",
              "                                      station  \\\n",
              "0        6 mins (480 m) to S10 Talat Phlu BTS   \n",
              "1           5 mins (360 m) to E6 Thong Lo BTS   \n",
              "2           4 mins (330 m) to E1 Chit Lom BTS   \n",
              "3  5 mins (350 m) to B3 Technic Krungthep BRT   \n",
              "4       1 mins (90 m) to B12 Ratchaphruek BRT   \n",
              "\n",
              "                                 condo_details room_size bedroom  bathroom  \\\n",
              "0  Condo\\r\\nPartially Furnished\\r\\nBuilt: 2015        43      1        1.0   \n",
              "1      Condo\\r\\nFully Furnished\\r\\nBuilt: 2012        75      2        2.0   \n",
              "2                         Condo\\r\\nBuilt: 2019        75      1        2.0   \n",
              "3      Condo\\r\\nFully Furnished\\r\\nBuilt: 2012        80      2        2.0   \n",
              "4      Condo\\r\\nFully Furnished\\r\\nBuilt: 2022        28      1        1.0   \n",
              "\n",
              "  price_per_sqm                    agency  \\\n",
              "0        279.07  Land Property Management   \n",
              "1         800.0  Usanisa Mahanukul (PARN)   \n",
              "2       1266.67        อาภรณ์ เปี่ยมปัญญา   \n",
              "3         187.5    ณัฐพัชร์ โชติอัครสินทบ   \n",
              "4        464.29      Theeradon Chaopaknam   \n",
              "\n",
              "                                                link  \n",
              "0  https://www.ddproperty.com/en/property/supalai...  \n",
              "1  https://www.ddproperty.com/en/property/ashton-...  \n",
              "2  https://www.ddproperty.com/en/property/28-chid...  \n",
              "3  https://www.ddproperty.com/en/property/merlin-...  \n",
              "4  https://www.ddproperty.com/en/property/life-sa...  "
            ],
            "text/html": [
              "\n",
              "  <div id=\"df-96f5af35-381d-42d0-9d6c-7d4400a96da9\" class=\"colab-df-container\">\n",
              "    <div>\n",
              "<style scoped>\n",
              "    .dataframe tbody tr th:only-of-type {\n",
              "        vertical-align: middle;\n",
              "    }\n",
              "\n",
              "    .dataframe tbody tr th {\n",
              "        vertical-align: top;\n",
              "    }\n",
              "\n",
              "    .dataframe thead th {\n",
              "        text-align: right;\n",
              "    }\n",
              "</style>\n",
              "<table border=\"1\" class=\"dataframe\">\n",
              "  <thead>\n",
              "    <tr style=\"text-align: right;\">\n",
              "      <th></th>\n",
              "      <th>name</th>\n",
              "      <th>price_p_month</th>\n",
              "      <th>address</th>\n",
              "      <th>station</th>\n",
              "      <th>condo_details</th>\n",
              "      <th>room_size</th>\n",
              "      <th>bedroom</th>\n",
              "      <th>bathroom</th>\n",
              "      <th>price_per_sqm</th>\n",
              "      <th>agency</th>\n",
              "      <th>link</th>\n",
              "    </tr>\n",
              "  </thead>\n",
              "  <tbody>\n",
              "    <tr>\n",
              "      <th>0</th>\n",
              "      <td>Supalai Loft @ Talat Phlu Station, Bangkok</td>\n",
              "      <td>฿12,000 /mo</td>\n",
              "      <td>Ratchadaphisek Road, Talat Plu, Thon Buri, Ban...</td>\n",
              "      <td>6 mins (480 m) to S10 Talat Phlu BTS</td>\n",
              "      <td>Condo\\r\\nPartially Furnished\\r\\nBuilt: 2015</td>\n",
              "      <td>43</td>\n",
              "      <td>1</td>\n",
              "      <td>1.0</td>\n",
              "      <td>279.07</td>\n",
              "      <td>Land Property Management</td>\n",
              "      <td>https://www.ddproperty.com/en/property/supalai...</td>\n",
              "    </tr>\n",
              "    <tr>\n",
              "      <th>1</th>\n",
              "      <td>ASHTON Morph 38, Bangkok</td>\n",
              "      <td>฿60,000 /mo</td>\n",
              "      <td>88 Soi Sukhumvit 38, Phra Kanong, Khlong Toei,...</td>\n",
              "      <td>5 mins (360 m) to E6 Thong Lo BTS</td>\n",
              "      <td>Condo\\r\\nFully Furnished\\r\\nBuilt: 2012</td>\n",
              "      <td>75</td>\n",
              "      <td>2</td>\n",
              "      <td>2.0</td>\n",
              "      <td>800.0</td>\n",
              "      <td>Usanisa Mahanukul (PARN)</td>\n",
              "      <td>https://www.ddproperty.com/en/property/ashton-...</td>\n",
              "    </tr>\n",
              "    <tr>\n",
              "      <th>2</th>\n",
              "      <td>28 Chidlom, Bangkok</td>\n",
              "      <td>฿95,000 /mo</td>\n",
              "      <td>28 Chit Lom Alley, Lumphini, Pathum Wan, Bangkok</td>\n",
              "      <td>4 mins (330 m) to E1 Chit Lom BTS</td>\n",
              "      <td>Condo\\r\\nBuilt: 2019</td>\n",
              "      <td>75</td>\n",
              "      <td>1</td>\n",
              "      <td>2.0</td>\n",
              "      <td>1266.67</td>\n",
              "      <td>อาภรณ์ เปี่ยมปัญญา</td>\n",
              "      <td>https://www.ddproperty.com/en/property/28-chid...</td>\n",
              "    </tr>\n",
              "    <tr>\n",
              "      <th>3</th>\n",
              "      <td>Merlin Tower Condominium, Bangkok</td>\n",
              "      <td>฿15,000 /mo</td>\n",
              "      <td>Soi Narathiwat 14 Sathon Road, Thung Wat Don, ...</td>\n",
              "      <td>5 mins (350 m) to B3 Technic Krungthep BRT</td>\n",
              "      <td>Condo\\r\\nFully Furnished\\r\\nBuilt: 2012</td>\n",
              "      <td>80</td>\n",
              "      <td>2</td>\n",
              "      <td>2.0</td>\n",
              "      <td>187.5</td>\n",
              "      <td>ณัฐพัชร์ โชติอัครสินทบ</td>\n",
              "      <td>https://www.ddproperty.com/en/property/merlin-...</td>\n",
              "    </tr>\n",
              "    <tr>\n",
              "      <th>4</th>\n",
              "      <td>Life Sathorn Sierra, Bangkok</td>\n",
              "      <td>฿13,000 /mo</td>\n",
              "      <td>Ratchaphruek Rd, Talat Plu, Thon Buri, Bangkok</td>\n",
              "      <td>1 mins (90 m) to B12 Ratchaphruek BRT</td>\n",
              "      <td>Condo\\r\\nFully Furnished\\r\\nBuilt: 2022</td>\n",
              "      <td>28</td>\n",
              "      <td>1</td>\n",
              "      <td>1.0</td>\n",
              "      <td>464.29</td>\n",
              "      <td>Theeradon Chaopaknam</td>\n",
              "      <td>https://www.ddproperty.com/en/property/life-sa...</td>\n",
              "    </tr>\n",
              "  </tbody>\n",
              "</table>\n",
              "</div>\n",
              "    <div class=\"colab-df-buttons\">\n",
              "\n",
              "  <div class=\"colab-df-container\">\n",
              "    <button class=\"colab-df-convert\" onclick=\"convertToInteractive('df-96f5af35-381d-42d0-9d6c-7d4400a96da9')\"\n",
              "            title=\"Convert this dataframe to an interactive table.\"\n",
              "            style=\"display:none;\">\n",
              "\n",
              "  <svg xmlns=\"http://www.w3.org/2000/svg\" height=\"24px\" viewBox=\"0 -960 960 960\">\n",
              "    <path d=\"M120-120v-720h720v720H120Zm60-500h600v-160H180v160Zm220 220h160v-160H400v160Zm0 220h160v-160H400v160ZM180-400h160v-160H180v160Zm440 0h160v-160H620v160ZM180-180h160v-160H180v160Zm440 0h160v-160H620v160Z\"/>\n",
              "  </svg>\n",
              "    </button>\n",
              "\n",
              "  <style>\n",
              "    .colab-df-container {\n",
              "      display:flex;\n",
              "      gap: 12px;\n",
              "    }\n",
              "\n",
              "    .colab-df-convert {\n",
              "      background-color: #E8F0FE;\n",
              "      border: none;\n",
              "      border-radius: 50%;\n",
              "      cursor: pointer;\n",
              "      display: none;\n",
              "      fill: #1967D2;\n",
              "      height: 32px;\n",
              "      padding: 0 0 0 0;\n",
              "      width: 32px;\n",
              "    }\n",
              "\n",
              "    .colab-df-convert:hover {\n",
              "      background-color: #E2EBFA;\n",
              "      box-shadow: 0px 1px 2px rgba(60, 64, 67, 0.3), 0px 1px 3px 1px rgba(60, 64, 67, 0.15);\n",
              "      fill: #174EA6;\n",
              "    }\n",
              "\n",
              "    .colab-df-buttons div {\n",
              "      margin-bottom: 4px;\n",
              "    }\n",
              "\n",
              "    [theme=dark] .colab-df-convert {\n",
              "      background-color: #3B4455;\n",
              "      fill: #D2E3FC;\n",
              "    }\n",
              "\n",
              "    [theme=dark] .colab-df-convert:hover {\n",
              "      background-color: #434B5C;\n",
              "      box-shadow: 0px 1px 3px 1px rgba(0, 0, 0, 0.15);\n",
              "      filter: drop-shadow(0px 1px 2px rgba(0, 0, 0, 0.3));\n",
              "      fill: #FFFFFF;\n",
              "    }\n",
              "  </style>\n",
              "\n",
              "    <script>\n",
              "      const buttonEl =\n",
              "        document.querySelector('#df-96f5af35-381d-42d0-9d6c-7d4400a96da9 button.colab-df-convert');\n",
              "      buttonEl.style.display =\n",
              "        google.colab.kernel.accessAllowed ? 'block' : 'none';\n",
              "\n",
              "      async function convertToInteractive(key) {\n",
              "        const element = document.querySelector('#df-96f5af35-381d-42d0-9d6c-7d4400a96da9');\n",
              "        const dataTable =\n",
              "          await google.colab.kernel.invokeFunction('convertToInteractive',\n",
              "                                                    [key], {});\n",
              "        if (!dataTable) return;\n",
              "\n",
              "        const docLinkHtml = 'Like what you see? Visit the ' +\n",
              "          '<a target=\"_blank\" href=https://colab.research.google.com/notebooks/data_table.ipynb>data table notebook</a>'\n",
              "          + ' to learn more about interactive tables.';\n",
              "        element.innerHTML = '';\n",
              "        dataTable['output_type'] = 'display_data';\n",
              "        await google.colab.output.renderOutput(dataTable, element);\n",
              "        const docLink = document.createElement('div');\n",
              "        docLink.innerHTML = docLinkHtml;\n",
              "        element.appendChild(docLink);\n",
              "      }\n",
              "    </script>\n",
              "  </div>\n",
              "\n",
              "\n",
              "<div id=\"df-6e14f8cc-14f8-4f29-b38b-d3c1fbcaedad\">\n",
              "  <button class=\"colab-df-quickchart\" onclick=\"quickchart('df-6e14f8cc-14f8-4f29-b38b-d3c1fbcaedad')\"\n",
              "            title=\"Suggest charts\"\n",
              "            style=\"display:none;\">\n",
              "\n",
              "<svg xmlns=\"http://www.w3.org/2000/svg\" height=\"24px\"viewBox=\"0 0 24 24\"\n",
              "     width=\"24px\">\n",
              "    <g>\n",
              "        <path d=\"M19 3H5c-1.1 0-2 .9-2 2v14c0 1.1.9 2 2 2h14c1.1 0 2-.9 2-2V5c0-1.1-.9-2-2-2zM9 17H7v-7h2v7zm4 0h-2V7h2v10zm4 0h-2v-4h2v4z\"/>\n",
              "    </g>\n",
              "</svg>\n",
              "  </button>\n",
              "\n",
              "<style>\n",
              "  .colab-df-quickchart {\n",
              "      --bg-color: #E8F0FE;\n",
              "      --fill-color: #1967D2;\n",
              "      --hover-bg-color: #E2EBFA;\n",
              "      --hover-fill-color: #174EA6;\n",
              "      --disabled-fill-color: #AAA;\n",
              "      --disabled-bg-color: #DDD;\n",
              "  }\n",
              "\n",
              "  [theme=dark] .colab-df-quickchart {\n",
              "      --bg-color: #3B4455;\n",
              "      --fill-color: #D2E3FC;\n",
              "      --hover-bg-color: #434B5C;\n",
              "      --hover-fill-color: #FFFFFF;\n",
              "      --disabled-bg-color: #3B4455;\n",
              "      --disabled-fill-color: #666;\n",
              "  }\n",
              "\n",
              "  .colab-df-quickchart {\n",
              "    background-color: var(--bg-color);\n",
              "    border: none;\n",
              "    border-radius: 50%;\n",
              "    cursor: pointer;\n",
              "    display: none;\n",
              "    fill: var(--fill-color);\n",
              "    height: 32px;\n",
              "    padding: 0;\n",
              "    width: 32px;\n",
              "  }\n",
              "\n",
              "  .colab-df-quickchart:hover {\n",
              "    background-color: var(--hover-bg-color);\n",
              "    box-shadow: 0 1px 2px rgba(60, 64, 67, 0.3), 0 1px 3px 1px rgba(60, 64, 67, 0.15);\n",
              "    fill: var(--button-hover-fill-color);\n",
              "  }\n",
              "\n",
              "  .colab-df-quickchart-complete:disabled,\n",
              "  .colab-df-quickchart-complete:disabled:hover {\n",
              "    background-color: var(--disabled-bg-color);\n",
              "    fill: var(--disabled-fill-color);\n",
              "    box-shadow: none;\n",
              "  }\n",
              "\n",
              "  .colab-df-spinner {\n",
              "    border: 2px solid var(--fill-color);\n",
              "    border-color: transparent;\n",
              "    border-bottom-color: var(--fill-color);\n",
              "    animation:\n",
              "      spin 1s steps(1) infinite;\n",
              "  }\n",
              "\n",
              "  @keyframes spin {\n",
              "    0% {\n",
              "      border-color: transparent;\n",
              "      border-bottom-color: var(--fill-color);\n",
              "      border-left-color: var(--fill-color);\n",
              "    }\n",
              "    20% {\n",
              "      border-color: transparent;\n",
              "      border-left-color: var(--fill-color);\n",
              "      border-top-color: var(--fill-color);\n",
              "    }\n",
              "    30% {\n",
              "      border-color: transparent;\n",
              "      border-left-color: var(--fill-color);\n",
              "      border-top-color: var(--fill-color);\n",
              "      border-right-color: var(--fill-color);\n",
              "    }\n",
              "    40% {\n",
              "      border-color: transparent;\n",
              "      border-right-color: var(--fill-color);\n",
              "      border-top-color: var(--fill-color);\n",
              "    }\n",
              "    60% {\n",
              "      border-color: transparent;\n",
              "      border-right-color: var(--fill-color);\n",
              "    }\n",
              "    80% {\n",
              "      border-color: transparent;\n",
              "      border-right-color: var(--fill-color);\n",
              "      border-bottom-color: var(--fill-color);\n",
              "    }\n",
              "    90% {\n",
              "      border-color: transparent;\n",
              "      border-bottom-color: var(--fill-color);\n",
              "    }\n",
              "  }\n",
              "</style>\n",
              "\n",
              "  <script>\n",
              "    async function quickchart(key) {\n",
              "      const quickchartButtonEl =\n",
              "        document.querySelector('#' + key + ' button');\n",
              "      quickchartButtonEl.disabled = true;  // To prevent multiple clicks.\n",
              "      quickchartButtonEl.classList.add('colab-df-spinner');\n",
              "      try {\n",
              "        const charts = await google.colab.kernel.invokeFunction(\n",
              "            'suggestCharts', [key], {});\n",
              "      } catch (error) {\n",
              "        console.error('Error during call to suggestCharts:', error);\n",
              "      }\n",
              "      quickchartButtonEl.classList.remove('colab-df-spinner');\n",
              "      quickchartButtonEl.classList.add('colab-df-quickchart-complete');\n",
              "    }\n",
              "    (() => {\n",
              "      let quickchartButtonEl =\n",
              "        document.querySelector('#df-6e14f8cc-14f8-4f29-b38b-d3c1fbcaedad button');\n",
              "      quickchartButtonEl.style.display =\n",
              "        google.colab.kernel.accessAllowed ? 'block' : 'none';\n",
              "    })();\n",
              "  </script>\n",
              "</div>\n",
              "    </div>\n",
              "  </div>\n"
            ]
          },
          "metadata": {},
          "execution_count": 44
        }
      ],
      "source": [
        "df = pd.read_csv('rental_condo_data_bkk_jan_2024.csv', encoding='utf-8-sig')\n",
        "\n",
        "df.head()"
      ]
    },
    {
      "cell_type": "markdown",
      "source": [
        "Identify data types"
      ],
      "metadata": {
        "id": "EzXPYd_L81X7"
      }
    },
    {
      "cell_type": "code",
      "source": [
        "df.info()"
      ],
      "metadata": {
        "colab": {
          "base_uri": "https://localhost:8080/"
        },
        "id": "fc5TDwviPK6Q",
        "outputId": "e9e80f0f-6dec-4078-b2b6-691bb5d7256f"
      },
      "execution_count": 45,
      "outputs": [
        {
          "output_type": "stream",
          "name": "stdout",
          "text": [
            "<class 'pandas.core.frame.DataFrame'>\n",
            "RangeIndex: 66874 entries, 0 to 66873\n",
            "Data columns (total 11 columns):\n",
            " #   Column         Non-Null Count  Dtype  \n",
            "---  ------         --------------  -----  \n",
            " 0   name           66874 non-null  object \n",
            " 1   price_p_month  66871 non-null  object \n",
            " 2   address        66874 non-null  object \n",
            " 3   station        57916 non-null  object \n",
            " 4   condo_details  66874 non-null  object \n",
            " 5   room_size      66870 non-null  object \n",
            " 6   bedroom        66855 non-null  object \n",
            " 7   bathroom       64898 non-null  float64\n",
            " 8   price_per_sqm  66870 non-null  object \n",
            " 9   agency         66874 non-null  object \n",
            " 10  link           66874 non-null  object \n",
            "dtypes: float64(1), object(10)\n",
            "memory usage: 5.6+ MB\n"
          ]
        }
      ]
    },
    {
      "cell_type": "markdown",
      "source": [
        "After a quick examination of the data, I have found that it is not ready to be used at this time. Data types are not suitable for analysis. The data in each column needs to be extracted or replaced with appropriate words."
      ],
      "metadata": {
        "id": "NN_3Q3CSrRAB"
      }
    },
    {
      "cell_type": "markdown",
      "source": [
        "## Data Cleaning"
      ],
      "metadata": {
        "id": "tcufEW7RdoFy"
      }
    },
    {
      "cell_type": "markdown",
      "source": [
        "### Remove duplicated values."
      ],
      "metadata": {
        "id": "2xzqbXzQtmza"
      }
    },
    {
      "cell_type": "code",
      "source": [
        "df"
      ],
      "metadata": {
        "colab": {
          "base_uri": "https://localhost:8080/",
          "height": 1000
        },
        "id": "i0RIHFKQtSvK",
        "outputId": "dbfac94a-a623-4524-885a-43263497ba2f"
      },
      "execution_count": 46,
      "outputs": [
        {
          "output_type": "execute_result",
          "data": {
            "text/plain": [
              "                                                 name price_p_month  \\\n",
              "0          Supalai Loft @ Talat Phlu Station, Bangkok   ฿12,000 /mo   \n",
              "1                            ASHTON Morph 38, Bangkok   ฿60,000 /mo   \n",
              "2                                 28 Chidlom, Bangkok   ฿95,000 /mo   \n",
              "3                   Merlin Tower Condominium, Bangkok   ฿15,000 /mo   \n",
              "4                        Life Sathorn Sierra, Bangkok   ฿13,000 /mo   \n",
              "...                                               ...           ...   \n",
              "66869                           Life Ladprao, Bangkok   ฿15,000 /mo   \n",
              "66870  The Waterford Diamond Tower Sukhumvit, Bangkok   ฿18,000 /mo   \n",
              "66871             Supalai Premier Place Asok, Bangkok   ฿20,000 /mo   \n",
              "66872               The River by Raimon Land, Bangkok   ฿80,000 /mo   \n",
              "66873                              M Jatujak, Bangkok   ฿15,000 /mo   \n",
              "\n",
              "                                                 address  \\\n",
              "0      Ratchadaphisek Road, Talat Plu, Thon Buri, Ban...   \n",
              "1      88 Soi Sukhumvit 38, Phra Kanong, Khlong Toei,...   \n",
              "2       28 Chit Lom Alley, Lumphini, Pathum Wan, Bangkok   \n",
              "3      Soi Narathiwat 14 Sathon Road, Thung Wat Don, ...   \n",
              "4         Ratchaphruek Rd, Talat Plu, Thon Buri, Bangkok   \n",
              "...                                                  ...   \n",
              "66869     992 Ladprao Road, Jom Phon, Chatuchak, Bangkok   \n",
              "66870  758/18  Soi Sukhumvit 30/1, Sukhumvit Road, Kh...   \n",
              "66871  60 Asoke Montri Road, Khlongtoei Nua, Watthana...   \n",
              "66872  Soi Charoen Nakorn 13, Charoen Nakorn Road, Kh...   \n",
              "66873   Phahonyothin Road, Chatuchak, Chatuchak, Bangkok   \n",
              "\n",
              "                                          station  \\\n",
              "0            6 mins (480 m) to S10 Talat Phlu BTS   \n",
              "1               5 mins (360 m) to E6 Thong Lo BTS   \n",
              "2               4 mins (330 m) to E1 Chit Lom BTS   \n",
              "3      5 mins (350 m) to B3 Technic Krungthep BRT   \n",
              "4           1 mins (90 m) to B12 Ratchaphruek BRT   \n",
              "...                                           ...   \n",
              "66869  2 mins (160 m) to N9 Ha Yaek Lat Phrao BTS   \n",
              "66870           8 mins (570 m) to E6 Thong Lo BTS   \n",
              "66871      5 mins (410 m) to BL21 Phetchaburi MRT   \n",
              "66872      7 mins (520 m) to S6 Saphan Taksin BTS   \n",
              "66873   5 mins (360 m) to BL12 Kamphaeng Phet MRT   \n",
              "\n",
              "                                     condo_details room_size  bedroom  \\\n",
              "0      Condo\\r\\nPartially Furnished\\r\\nBuilt: 2015        43       1    \n",
              "1          Condo\\r\\nFully Furnished\\r\\nBuilt: 2012        75       2    \n",
              "2                             Condo\\r\\nBuilt: 2019        75       1    \n",
              "3          Condo\\r\\nFully Furnished\\r\\nBuilt: 2012        80       2    \n",
              "4          Condo\\r\\nFully Furnished\\r\\nBuilt: 2022        28       1    \n",
              "...                                            ...       ...      ...   \n",
              "66869                         Condo\\r\\nBuilt: 2020    26 sqm  Studio    \n",
              "66870                         Condo\\r\\nBuilt: 1999    52 sqm       1    \n",
              "66871                         Condo\\r\\nBuilt: 2014    65 sqm       1    \n",
              "66872                         Condo\\r\\nBuilt: 2009   185 sqm       1    \n",
              "66873                         Condo\\r\\nBuilt: 2015    28 sqm       1    \n",
              "\n",
              "       bathroom  price_per_sqm                    agency  \\\n",
              "0           1.0         279.07  Land Property Management   \n",
              "1           2.0          800.0  Usanisa Mahanukul (PARN)   \n",
              "2           2.0        1266.67        อาภรณ์ เปี่ยมปัญญา   \n",
              "3           2.0          187.5    ณัฐพัชร์ โชติอัครสินทบ   \n",
              "4           1.0         464.29      Theeradon Chaopaknam   \n",
              "...         ...            ...                       ...   \n",
              "66869       NaN  ฿576.92 / sqm             Incube Realty   \n",
              "66870       1.0  ฿346.15 / sqm             Incube Realty   \n",
              "66871       1.0  ฿307.69 / sqm             Incube Realty   \n",
              "66872       2.0  ฿432.43 / sqm             Incube Realty   \n",
              "66873       1.0  ฿535.71 / sqm                     admin   \n",
              "\n",
              "                                                    link  \n",
              "0      https://www.ddproperty.com/en/property/supalai...  \n",
              "1      https://www.ddproperty.com/en/property/ashton-...  \n",
              "2      https://www.ddproperty.com/en/property/28-chid...  \n",
              "3      https://www.ddproperty.com/en/property/merlin-...  \n",
              "4      https://www.ddproperty.com/en/property/life-sa...  \n",
              "...                                                  ...  \n",
              "66869  https://www.ddproperty.com/en/property/life-la...  \n",
              "66870  https://www.ddproperty.com/en/property/the-wat...  \n",
              "66871  https://www.ddproperty.com/en/property/supalai...  \n",
              "66872  https://www.ddproperty.com/en/property/the-riv...  \n",
              "66873  https://www.ddproperty.com/en/property/m-jatuj...  \n",
              "\n",
              "[66874 rows x 11 columns]"
            ],
            "text/html": [
              "\n",
              "  <div id=\"df-8e4074d2-f875-4514-9c7e-cb511bf4d477\" class=\"colab-df-container\">\n",
              "    <div>\n",
              "<style scoped>\n",
              "    .dataframe tbody tr th:only-of-type {\n",
              "        vertical-align: middle;\n",
              "    }\n",
              "\n",
              "    .dataframe tbody tr th {\n",
              "        vertical-align: top;\n",
              "    }\n",
              "\n",
              "    .dataframe thead th {\n",
              "        text-align: right;\n",
              "    }\n",
              "</style>\n",
              "<table border=\"1\" class=\"dataframe\">\n",
              "  <thead>\n",
              "    <tr style=\"text-align: right;\">\n",
              "      <th></th>\n",
              "      <th>name</th>\n",
              "      <th>price_p_month</th>\n",
              "      <th>address</th>\n",
              "      <th>station</th>\n",
              "      <th>condo_details</th>\n",
              "      <th>room_size</th>\n",
              "      <th>bedroom</th>\n",
              "      <th>bathroom</th>\n",
              "      <th>price_per_sqm</th>\n",
              "      <th>agency</th>\n",
              "      <th>link</th>\n",
              "    </tr>\n",
              "  </thead>\n",
              "  <tbody>\n",
              "    <tr>\n",
              "      <th>0</th>\n",
              "      <td>Supalai Loft @ Talat Phlu Station, Bangkok</td>\n",
              "      <td>฿12,000 /mo</td>\n",
              "      <td>Ratchadaphisek Road, Talat Plu, Thon Buri, Ban...</td>\n",
              "      <td>6 mins (480 m) to S10 Talat Phlu BTS</td>\n",
              "      <td>Condo\\r\\nPartially Furnished\\r\\nBuilt: 2015</td>\n",
              "      <td>43</td>\n",
              "      <td>1</td>\n",
              "      <td>1.0</td>\n",
              "      <td>279.07</td>\n",
              "      <td>Land Property Management</td>\n",
              "      <td>https://www.ddproperty.com/en/property/supalai...</td>\n",
              "    </tr>\n",
              "    <tr>\n",
              "      <th>1</th>\n",
              "      <td>ASHTON Morph 38, Bangkok</td>\n",
              "      <td>฿60,000 /mo</td>\n",
              "      <td>88 Soi Sukhumvit 38, Phra Kanong, Khlong Toei,...</td>\n",
              "      <td>5 mins (360 m) to E6 Thong Lo BTS</td>\n",
              "      <td>Condo\\r\\nFully Furnished\\r\\nBuilt: 2012</td>\n",
              "      <td>75</td>\n",
              "      <td>2</td>\n",
              "      <td>2.0</td>\n",
              "      <td>800.0</td>\n",
              "      <td>Usanisa Mahanukul (PARN)</td>\n",
              "      <td>https://www.ddproperty.com/en/property/ashton-...</td>\n",
              "    </tr>\n",
              "    <tr>\n",
              "      <th>2</th>\n",
              "      <td>28 Chidlom, Bangkok</td>\n",
              "      <td>฿95,000 /mo</td>\n",
              "      <td>28 Chit Lom Alley, Lumphini, Pathum Wan, Bangkok</td>\n",
              "      <td>4 mins (330 m) to E1 Chit Lom BTS</td>\n",
              "      <td>Condo\\r\\nBuilt: 2019</td>\n",
              "      <td>75</td>\n",
              "      <td>1</td>\n",
              "      <td>2.0</td>\n",
              "      <td>1266.67</td>\n",
              "      <td>อาภรณ์ เปี่ยมปัญญา</td>\n",
              "      <td>https://www.ddproperty.com/en/property/28-chid...</td>\n",
              "    </tr>\n",
              "    <tr>\n",
              "      <th>3</th>\n",
              "      <td>Merlin Tower Condominium, Bangkok</td>\n",
              "      <td>฿15,000 /mo</td>\n",
              "      <td>Soi Narathiwat 14 Sathon Road, Thung Wat Don, ...</td>\n",
              "      <td>5 mins (350 m) to B3 Technic Krungthep BRT</td>\n",
              "      <td>Condo\\r\\nFully Furnished\\r\\nBuilt: 2012</td>\n",
              "      <td>80</td>\n",
              "      <td>2</td>\n",
              "      <td>2.0</td>\n",
              "      <td>187.5</td>\n",
              "      <td>ณัฐพัชร์ โชติอัครสินทบ</td>\n",
              "      <td>https://www.ddproperty.com/en/property/merlin-...</td>\n",
              "    </tr>\n",
              "    <tr>\n",
              "      <th>4</th>\n",
              "      <td>Life Sathorn Sierra, Bangkok</td>\n",
              "      <td>฿13,000 /mo</td>\n",
              "      <td>Ratchaphruek Rd, Talat Plu, Thon Buri, Bangkok</td>\n",
              "      <td>1 mins (90 m) to B12 Ratchaphruek BRT</td>\n",
              "      <td>Condo\\r\\nFully Furnished\\r\\nBuilt: 2022</td>\n",
              "      <td>28</td>\n",
              "      <td>1</td>\n",
              "      <td>1.0</td>\n",
              "      <td>464.29</td>\n",
              "      <td>Theeradon Chaopaknam</td>\n",
              "      <td>https://www.ddproperty.com/en/property/life-sa...</td>\n",
              "    </tr>\n",
              "    <tr>\n",
              "      <th>...</th>\n",
              "      <td>...</td>\n",
              "      <td>...</td>\n",
              "      <td>...</td>\n",
              "      <td>...</td>\n",
              "      <td>...</td>\n",
              "      <td>...</td>\n",
              "      <td>...</td>\n",
              "      <td>...</td>\n",
              "      <td>...</td>\n",
              "      <td>...</td>\n",
              "      <td>...</td>\n",
              "    </tr>\n",
              "    <tr>\n",
              "      <th>66869</th>\n",
              "      <td>Life Ladprao, Bangkok</td>\n",
              "      <td>฿15,000 /mo</td>\n",
              "      <td>992 Ladprao Road, Jom Phon, Chatuchak, Bangkok</td>\n",
              "      <td>2 mins (160 m) to N9 Ha Yaek Lat Phrao BTS</td>\n",
              "      <td>Condo\\r\\nBuilt: 2020</td>\n",
              "      <td>26 sqm</td>\n",
              "      <td>Studio</td>\n",
              "      <td>NaN</td>\n",
              "      <td>฿576.92 / sqm</td>\n",
              "      <td>Incube Realty</td>\n",
              "      <td>https://www.ddproperty.com/en/property/life-la...</td>\n",
              "    </tr>\n",
              "    <tr>\n",
              "      <th>66870</th>\n",
              "      <td>The Waterford Diamond Tower Sukhumvit, Bangkok</td>\n",
              "      <td>฿18,000 /mo</td>\n",
              "      <td>758/18  Soi Sukhumvit 30/1, Sukhumvit Road, Kh...</td>\n",
              "      <td>8 mins (570 m) to E6 Thong Lo BTS</td>\n",
              "      <td>Condo\\r\\nBuilt: 1999</td>\n",
              "      <td>52 sqm</td>\n",
              "      <td>1</td>\n",
              "      <td>1.0</td>\n",
              "      <td>฿346.15 / sqm</td>\n",
              "      <td>Incube Realty</td>\n",
              "      <td>https://www.ddproperty.com/en/property/the-wat...</td>\n",
              "    </tr>\n",
              "    <tr>\n",
              "      <th>66871</th>\n",
              "      <td>Supalai Premier Place Asok, Bangkok</td>\n",
              "      <td>฿20,000 /mo</td>\n",
              "      <td>60 Asoke Montri Road, Khlongtoei Nua, Watthana...</td>\n",
              "      <td>5 mins (410 m) to BL21 Phetchaburi MRT</td>\n",
              "      <td>Condo\\r\\nBuilt: 2014</td>\n",
              "      <td>65 sqm</td>\n",
              "      <td>1</td>\n",
              "      <td>1.0</td>\n",
              "      <td>฿307.69 / sqm</td>\n",
              "      <td>Incube Realty</td>\n",
              "      <td>https://www.ddproperty.com/en/property/supalai...</td>\n",
              "    </tr>\n",
              "    <tr>\n",
              "      <th>66872</th>\n",
              "      <td>The River by Raimon Land, Bangkok</td>\n",
              "      <td>฿80,000 /mo</td>\n",
              "      <td>Soi Charoen Nakorn 13, Charoen Nakorn Road, Kh...</td>\n",
              "      <td>7 mins (520 m) to S6 Saphan Taksin BTS</td>\n",
              "      <td>Condo\\r\\nBuilt: 2009</td>\n",
              "      <td>185 sqm</td>\n",
              "      <td>1</td>\n",
              "      <td>2.0</td>\n",
              "      <td>฿432.43 / sqm</td>\n",
              "      <td>Incube Realty</td>\n",
              "      <td>https://www.ddproperty.com/en/property/the-riv...</td>\n",
              "    </tr>\n",
              "    <tr>\n",
              "      <th>66873</th>\n",
              "      <td>M Jatujak, Bangkok</td>\n",
              "      <td>฿15,000 /mo</td>\n",
              "      <td>Phahonyothin Road, Chatuchak, Chatuchak, Bangkok</td>\n",
              "      <td>5 mins (360 m) to BL12 Kamphaeng Phet MRT</td>\n",
              "      <td>Condo\\r\\nBuilt: 2015</td>\n",
              "      <td>28 sqm</td>\n",
              "      <td>1</td>\n",
              "      <td>1.0</td>\n",
              "      <td>฿535.71 / sqm</td>\n",
              "      <td>admin</td>\n",
              "      <td>https://www.ddproperty.com/en/property/m-jatuj...</td>\n",
              "    </tr>\n",
              "  </tbody>\n",
              "</table>\n",
              "<p>66874 rows × 11 columns</p>\n",
              "</div>\n",
              "    <div class=\"colab-df-buttons\">\n",
              "\n",
              "  <div class=\"colab-df-container\">\n",
              "    <button class=\"colab-df-convert\" onclick=\"convertToInteractive('df-8e4074d2-f875-4514-9c7e-cb511bf4d477')\"\n",
              "            title=\"Convert this dataframe to an interactive table.\"\n",
              "            style=\"display:none;\">\n",
              "\n",
              "  <svg xmlns=\"http://www.w3.org/2000/svg\" height=\"24px\" viewBox=\"0 -960 960 960\">\n",
              "    <path d=\"M120-120v-720h720v720H120Zm60-500h600v-160H180v160Zm220 220h160v-160H400v160Zm0 220h160v-160H400v160ZM180-400h160v-160H180v160Zm440 0h160v-160H620v160ZM180-180h160v-160H180v160Zm440 0h160v-160H620v160Z\"/>\n",
              "  </svg>\n",
              "    </button>\n",
              "\n",
              "  <style>\n",
              "    .colab-df-container {\n",
              "      display:flex;\n",
              "      gap: 12px;\n",
              "    }\n",
              "\n",
              "    .colab-df-convert {\n",
              "      background-color: #E8F0FE;\n",
              "      border: none;\n",
              "      border-radius: 50%;\n",
              "      cursor: pointer;\n",
              "      display: none;\n",
              "      fill: #1967D2;\n",
              "      height: 32px;\n",
              "      padding: 0 0 0 0;\n",
              "      width: 32px;\n",
              "    }\n",
              "\n",
              "    .colab-df-convert:hover {\n",
              "      background-color: #E2EBFA;\n",
              "      box-shadow: 0px 1px 2px rgba(60, 64, 67, 0.3), 0px 1px 3px 1px rgba(60, 64, 67, 0.15);\n",
              "      fill: #174EA6;\n",
              "    }\n",
              "\n",
              "    .colab-df-buttons div {\n",
              "      margin-bottom: 4px;\n",
              "    }\n",
              "\n",
              "    [theme=dark] .colab-df-convert {\n",
              "      background-color: #3B4455;\n",
              "      fill: #D2E3FC;\n",
              "    }\n",
              "\n",
              "    [theme=dark] .colab-df-convert:hover {\n",
              "      background-color: #434B5C;\n",
              "      box-shadow: 0px 1px 3px 1px rgba(0, 0, 0, 0.15);\n",
              "      filter: drop-shadow(0px 1px 2px rgba(0, 0, 0, 0.3));\n",
              "      fill: #FFFFFF;\n",
              "    }\n",
              "  </style>\n",
              "\n",
              "    <script>\n",
              "      const buttonEl =\n",
              "        document.querySelector('#df-8e4074d2-f875-4514-9c7e-cb511bf4d477 button.colab-df-convert');\n",
              "      buttonEl.style.display =\n",
              "        google.colab.kernel.accessAllowed ? 'block' : 'none';\n",
              "\n",
              "      async function convertToInteractive(key) {\n",
              "        const element = document.querySelector('#df-8e4074d2-f875-4514-9c7e-cb511bf4d477');\n",
              "        const dataTable =\n",
              "          await google.colab.kernel.invokeFunction('convertToInteractive',\n",
              "                                                    [key], {});\n",
              "        if (!dataTable) return;\n",
              "\n",
              "        const docLinkHtml = 'Like what you see? Visit the ' +\n",
              "          '<a target=\"_blank\" href=https://colab.research.google.com/notebooks/data_table.ipynb>data table notebook</a>'\n",
              "          + ' to learn more about interactive tables.';\n",
              "        element.innerHTML = '';\n",
              "        dataTable['output_type'] = 'display_data';\n",
              "        await google.colab.output.renderOutput(dataTable, element);\n",
              "        const docLink = document.createElement('div');\n",
              "        docLink.innerHTML = docLinkHtml;\n",
              "        element.appendChild(docLink);\n",
              "      }\n",
              "    </script>\n",
              "  </div>\n",
              "\n",
              "\n",
              "<div id=\"df-25da37ab-4e8b-4232-a3e3-54d77f45101b\">\n",
              "  <button class=\"colab-df-quickchart\" onclick=\"quickchart('df-25da37ab-4e8b-4232-a3e3-54d77f45101b')\"\n",
              "            title=\"Suggest charts\"\n",
              "            style=\"display:none;\">\n",
              "\n",
              "<svg xmlns=\"http://www.w3.org/2000/svg\" height=\"24px\"viewBox=\"0 0 24 24\"\n",
              "     width=\"24px\">\n",
              "    <g>\n",
              "        <path d=\"M19 3H5c-1.1 0-2 .9-2 2v14c0 1.1.9 2 2 2h14c1.1 0 2-.9 2-2V5c0-1.1-.9-2-2-2zM9 17H7v-7h2v7zm4 0h-2V7h2v10zm4 0h-2v-4h2v4z\"/>\n",
              "    </g>\n",
              "</svg>\n",
              "  </button>\n",
              "\n",
              "<style>\n",
              "  .colab-df-quickchart {\n",
              "      --bg-color: #E8F0FE;\n",
              "      --fill-color: #1967D2;\n",
              "      --hover-bg-color: #E2EBFA;\n",
              "      --hover-fill-color: #174EA6;\n",
              "      --disabled-fill-color: #AAA;\n",
              "      --disabled-bg-color: #DDD;\n",
              "  }\n",
              "\n",
              "  [theme=dark] .colab-df-quickchart {\n",
              "      --bg-color: #3B4455;\n",
              "      --fill-color: #D2E3FC;\n",
              "      --hover-bg-color: #434B5C;\n",
              "      --hover-fill-color: #FFFFFF;\n",
              "      --disabled-bg-color: #3B4455;\n",
              "      --disabled-fill-color: #666;\n",
              "  }\n",
              "\n",
              "  .colab-df-quickchart {\n",
              "    background-color: var(--bg-color);\n",
              "    border: none;\n",
              "    border-radius: 50%;\n",
              "    cursor: pointer;\n",
              "    display: none;\n",
              "    fill: var(--fill-color);\n",
              "    height: 32px;\n",
              "    padding: 0;\n",
              "    width: 32px;\n",
              "  }\n",
              "\n",
              "  .colab-df-quickchart:hover {\n",
              "    background-color: var(--hover-bg-color);\n",
              "    box-shadow: 0 1px 2px rgba(60, 64, 67, 0.3), 0 1px 3px 1px rgba(60, 64, 67, 0.15);\n",
              "    fill: var(--button-hover-fill-color);\n",
              "  }\n",
              "\n",
              "  .colab-df-quickchart-complete:disabled,\n",
              "  .colab-df-quickchart-complete:disabled:hover {\n",
              "    background-color: var(--disabled-bg-color);\n",
              "    fill: var(--disabled-fill-color);\n",
              "    box-shadow: none;\n",
              "  }\n",
              "\n",
              "  .colab-df-spinner {\n",
              "    border: 2px solid var(--fill-color);\n",
              "    border-color: transparent;\n",
              "    border-bottom-color: var(--fill-color);\n",
              "    animation:\n",
              "      spin 1s steps(1) infinite;\n",
              "  }\n",
              "\n",
              "  @keyframes spin {\n",
              "    0% {\n",
              "      border-color: transparent;\n",
              "      border-bottom-color: var(--fill-color);\n",
              "      border-left-color: var(--fill-color);\n",
              "    }\n",
              "    20% {\n",
              "      border-color: transparent;\n",
              "      border-left-color: var(--fill-color);\n",
              "      border-top-color: var(--fill-color);\n",
              "    }\n",
              "    30% {\n",
              "      border-color: transparent;\n",
              "      border-left-color: var(--fill-color);\n",
              "      border-top-color: var(--fill-color);\n",
              "      border-right-color: var(--fill-color);\n",
              "    }\n",
              "    40% {\n",
              "      border-color: transparent;\n",
              "      border-right-color: var(--fill-color);\n",
              "      border-top-color: var(--fill-color);\n",
              "    }\n",
              "    60% {\n",
              "      border-color: transparent;\n",
              "      border-right-color: var(--fill-color);\n",
              "    }\n",
              "    80% {\n",
              "      border-color: transparent;\n",
              "      border-right-color: var(--fill-color);\n",
              "      border-bottom-color: var(--fill-color);\n",
              "    }\n",
              "    90% {\n",
              "      border-color: transparent;\n",
              "      border-bottom-color: var(--fill-color);\n",
              "    }\n",
              "  }\n",
              "</style>\n",
              "\n",
              "  <script>\n",
              "    async function quickchart(key) {\n",
              "      const quickchartButtonEl =\n",
              "        document.querySelector('#' + key + ' button');\n",
              "      quickchartButtonEl.disabled = true;  // To prevent multiple clicks.\n",
              "      quickchartButtonEl.classList.add('colab-df-spinner');\n",
              "      try {\n",
              "        const charts = await google.colab.kernel.invokeFunction(\n",
              "            'suggestCharts', [key], {});\n",
              "      } catch (error) {\n",
              "        console.error('Error during call to suggestCharts:', error);\n",
              "      }\n",
              "      quickchartButtonEl.classList.remove('colab-df-spinner');\n",
              "      quickchartButtonEl.classList.add('colab-df-quickchart-complete');\n",
              "    }\n",
              "    (() => {\n",
              "      let quickchartButtonEl =\n",
              "        document.querySelector('#df-25da37ab-4e8b-4232-a3e3-54d77f45101b button');\n",
              "      quickchartButtonEl.style.display =\n",
              "        google.colab.kernel.accessAllowed ? 'block' : 'none';\n",
              "    })();\n",
              "  </script>\n",
              "</div>\n",
              "    </div>\n",
              "  </div>\n"
            ]
          },
          "metadata": {},
          "execution_count": 46
        }
      ]
    },
    {
      "cell_type": "markdown",
      "source": [
        "Data in \"link\" column should not be duplicated."
      ],
      "metadata": {
        "id": "zibvMWQW8y2w"
      }
    },
    {
      "cell_type": "code",
      "source": [
        "df[df[['link']].duplicated()]"
      ],
      "metadata": {
        "colab": {
          "base_uri": "https://localhost:8080/",
          "height": 1000
        },
        "id": "rfO2WYCzswmd",
        "outputId": "2616345d-8d06-4da8-dab9-b0142ce9537c"
      },
      "execution_count": 47,
      "outputs": [
        {
          "output_type": "execute_result",
          "data": {
            "text/plain": [
              "                                             name price_p_month  \\\n",
              "309                           28 Chidlom, Bangkok   ฿95,000 /mo   \n",
              "925    Supalai Loft @ Talat Phlu Station, Bangkok   ฿12,000 /mo   \n",
              "2083                         Cooper Siam, Bangkok   ฿28,500 /mo   \n",
              "2084                  CONNER Ratchathewi, Bangkok   ฿45,000 /mo   \n",
              "2085               ASHTON Asoke - Rama 9, Bangkok   ฿30,000 /mo   \n",
              "...                                           ...           ...   \n",
              "66824       Baan Ratchadamri Condominium, Bangkok  ฿160,000 /mo   \n",
              "66826        Casa Condo Asoke - Dindaeng, Bangkok    ฿9,000 /mo   \n",
              "66851                       Dcondo Panaa, Bangkok    ฿8,500 /mo   \n",
              "66852                 Dcondo Tann Charan, Bangkok    ฿8,500 /mo   \n",
              "66857                  Life Asoke-Rama 9, Bangkok   ฿42,000 /mo   \n",
              "\n",
              "                                                 address  \\\n",
              "309     28 Chit Lom Alley, Lumphini, Pathum Wan, Bangkok   \n",
              "925    Ratchadaphisek Road, Talat Plu, Thon Buri, Ban...   \n",
              "2083   Soi Rong Mueang 5, Rong Muang, Pathum Wan, Ban...   \n",
              "2084   312 Soi Phetchaburi 7, Thanon Phetchaburi, Rat...   \n",
              "2085   469 Asoke-Dindaeng Road, Din Daeng, Din Daeng,...   \n",
              "...                                                  ...   \n",
              "66824  185 Ratchadamri Road, Lumphini, Pathum Wan, Ba...   \n",
              "66826  5801  Din Daeng Road, Din Daeng, Din Daeng, Ba...   \n",
              "66851  188 Liap Thang Rotfai Taling Chan Rd, Bang Khu...   \n",
              "66852  Liap Thang Rotfai Taling Chan Road, Bang Khun ...   \n",
              "66857      626 Asoke-Dindaeng Road, Ratchathewi, Bangkok   \n",
              "\n",
              "                                         station  \\\n",
              "309            4 mins (330 m) to E1 Chit Lom BTS   \n",
              "925         6 mins (480 m) to S10 Talat Phlu BTS   \n",
              "2083   9 mins (670 m) to W1 National Stadium BTS   \n",
              "2084        5 mins (350 m) to N1 Ratchathewi BTS   \n",
              "2085       3 mins (230 m) to BL20 Phra Ram 9 MRT   \n",
              "...                                          ...   \n",
              "66824        7 mins (500 m) to S1 Rachadamri BTS   \n",
              "66826                                        NaN   \n",
              "66851                                        NaN   \n",
              "66852                                        NaN   \n",
              "66857      5 mins (340 m) to BL20 Phra Ram 9 MRT   \n",
              "\n",
              "                                       condo_details room_size  bedroom  \\\n",
              "309                             Condo\\r\\nBuilt: 2019        75       1    \n",
              "925      Condo\\r\\nPartially Furnished\\r\\nBuilt: 2015        43       1    \n",
              "2083         Condo\\r\\nFully Furnished\\r\\nBuilt: 2021        36       1    \n",
              "2084     Condo\\r\\nPartially Furnished\\r\\nBuilt: 2021        51       1    \n",
              "2085         Condo\\r\\nFully Furnished\\r\\nBuilt: 2020        43       1    \n",
              "...                                              ...       ...      ...   \n",
              "66824                           Condo\\r\\nBuilt: 2014   267 sqm       3    \n",
              "66826        Condo\\r\\nFully Furnished\\r\\nBuilt: 2013    26 sqm  Studio    \n",
              "66851  New Project: 2023\\r\\nCondo\\r\\nFully Furnished    26 sqm       1    \n",
              "66852        Condo\\r\\nFully Furnished\\r\\nBuilt: 2020    27 sqm  Studio    \n",
              "66857                           Condo\\r\\nBuilt: 2020    58 sqm       2    \n",
              "\n",
              "       bathroom  price_per_sqm                    agency  \\\n",
              "309         2.0        1266.67        อาภรณ์ เปี่ยมปัญญา   \n",
              "925         1.0         279.07  Land Property Management   \n",
              "2083        1.0         791.67                  Agentbkk   \n",
              "2084        1.0         882.35      พชรธรรม์ พลอัครวัตน์   \n",
              "2085        1.0         697.67     Kim Thailand Property   \n",
              "...         ...            ...                       ...   \n",
              "66824       4.0  ฿599.99 / sqm      Accom Asia Co.,Ltd .   \n",
              "66826       NaN  ฿346.15 / sqm    Bangkok Prime Property   \n",
              "66851       1.0  ฿326.92 / sqm         พัทธนันท์ เชาวลิต   \n",
              "66852       NaN  ฿314.81 / sqm         พัทธนันท์ เชาวลิต   \n",
              "66857       2.0  ฿724.14 / sqm                  Eva Wang   \n",
              "\n",
              "                                                    link  \n",
              "309    https://www.ddproperty.com/en/property/28-chid...  \n",
              "925    https://www.ddproperty.com/en/property/supalai...  \n",
              "2083   https://www.ddproperty.com/en/property/cooper-...  \n",
              "2084   https://www.ddproperty.com/en/property/conner-...  \n",
              "2085   https://www.ddproperty.com/en/property/ashton-...  \n",
              "...                                                  ...  \n",
              "66824  https://www.ddproperty.com/en/property/baan-ra...  \n",
              "66826  https://www.ddproperty.com/en/property/casa-co...  \n",
              "66851  https://www.ddproperty.com/en/property/dcondo-...  \n",
              "66852  https://www.ddproperty.com/en/property/dcondo-...  \n",
              "66857  https://www.ddproperty.com/en/property/life-as...  \n",
              "\n",
              "[13241 rows x 11 columns]"
            ],
            "text/html": [
              "\n",
              "  <div id=\"df-ae046ccf-9899-495e-9bf4-134f673eaaa8\" class=\"colab-df-container\">\n",
              "    <div>\n",
              "<style scoped>\n",
              "    .dataframe tbody tr th:only-of-type {\n",
              "        vertical-align: middle;\n",
              "    }\n",
              "\n",
              "    .dataframe tbody tr th {\n",
              "        vertical-align: top;\n",
              "    }\n",
              "\n",
              "    .dataframe thead th {\n",
              "        text-align: right;\n",
              "    }\n",
              "</style>\n",
              "<table border=\"1\" class=\"dataframe\">\n",
              "  <thead>\n",
              "    <tr style=\"text-align: right;\">\n",
              "      <th></th>\n",
              "      <th>name</th>\n",
              "      <th>price_p_month</th>\n",
              "      <th>address</th>\n",
              "      <th>station</th>\n",
              "      <th>condo_details</th>\n",
              "      <th>room_size</th>\n",
              "      <th>bedroom</th>\n",
              "      <th>bathroom</th>\n",
              "      <th>price_per_sqm</th>\n",
              "      <th>agency</th>\n",
              "      <th>link</th>\n",
              "    </tr>\n",
              "  </thead>\n",
              "  <tbody>\n",
              "    <tr>\n",
              "      <th>309</th>\n",
              "      <td>28 Chidlom, Bangkok</td>\n",
              "      <td>฿95,000 /mo</td>\n",
              "      <td>28 Chit Lom Alley, Lumphini, Pathum Wan, Bangkok</td>\n",
              "      <td>4 mins (330 m) to E1 Chit Lom BTS</td>\n",
              "      <td>Condo\\r\\nBuilt: 2019</td>\n",
              "      <td>75</td>\n",
              "      <td>1</td>\n",
              "      <td>2.0</td>\n",
              "      <td>1266.67</td>\n",
              "      <td>อาภรณ์ เปี่ยมปัญญา</td>\n",
              "      <td>https://www.ddproperty.com/en/property/28-chid...</td>\n",
              "    </tr>\n",
              "    <tr>\n",
              "      <th>925</th>\n",
              "      <td>Supalai Loft @ Talat Phlu Station, Bangkok</td>\n",
              "      <td>฿12,000 /mo</td>\n",
              "      <td>Ratchadaphisek Road, Talat Plu, Thon Buri, Ban...</td>\n",
              "      <td>6 mins (480 m) to S10 Talat Phlu BTS</td>\n",
              "      <td>Condo\\r\\nPartially Furnished\\r\\nBuilt: 2015</td>\n",
              "      <td>43</td>\n",
              "      <td>1</td>\n",
              "      <td>1.0</td>\n",
              "      <td>279.07</td>\n",
              "      <td>Land Property Management</td>\n",
              "      <td>https://www.ddproperty.com/en/property/supalai...</td>\n",
              "    </tr>\n",
              "    <tr>\n",
              "      <th>2083</th>\n",
              "      <td>Cooper Siam, Bangkok</td>\n",
              "      <td>฿28,500 /mo</td>\n",
              "      <td>Soi Rong Mueang 5, Rong Muang, Pathum Wan, Ban...</td>\n",
              "      <td>9 mins (670 m) to W1 National Stadium BTS</td>\n",
              "      <td>Condo\\r\\nFully Furnished\\r\\nBuilt: 2021</td>\n",
              "      <td>36</td>\n",
              "      <td>1</td>\n",
              "      <td>1.0</td>\n",
              "      <td>791.67</td>\n",
              "      <td>Agentbkk</td>\n",
              "      <td>https://www.ddproperty.com/en/property/cooper-...</td>\n",
              "    </tr>\n",
              "    <tr>\n",
              "      <th>2084</th>\n",
              "      <td>CONNER Ratchathewi, Bangkok</td>\n",
              "      <td>฿45,000 /mo</td>\n",
              "      <td>312 Soi Phetchaburi 7, Thanon Phetchaburi, Rat...</td>\n",
              "      <td>5 mins (350 m) to N1 Ratchathewi BTS</td>\n",
              "      <td>Condo\\r\\nPartially Furnished\\r\\nBuilt: 2021</td>\n",
              "      <td>51</td>\n",
              "      <td>1</td>\n",
              "      <td>1.0</td>\n",
              "      <td>882.35</td>\n",
              "      <td>พชรธรรม์ พลอัครวัตน์</td>\n",
              "      <td>https://www.ddproperty.com/en/property/conner-...</td>\n",
              "    </tr>\n",
              "    <tr>\n",
              "      <th>2085</th>\n",
              "      <td>ASHTON Asoke - Rama 9, Bangkok</td>\n",
              "      <td>฿30,000 /mo</td>\n",
              "      <td>469 Asoke-Dindaeng Road, Din Daeng, Din Daeng,...</td>\n",
              "      <td>3 mins (230 m) to BL20 Phra Ram 9 MRT</td>\n",
              "      <td>Condo\\r\\nFully Furnished\\r\\nBuilt: 2020</td>\n",
              "      <td>43</td>\n",
              "      <td>1</td>\n",
              "      <td>1.0</td>\n",
              "      <td>697.67</td>\n",
              "      <td>Kim Thailand Property</td>\n",
              "      <td>https://www.ddproperty.com/en/property/ashton-...</td>\n",
              "    </tr>\n",
              "    <tr>\n",
              "      <th>...</th>\n",
              "      <td>...</td>\n",
              "      <td>...</td>\n",
              "      <td>...</td>\n",
              "      <td>...</td>\n",
              "      <td>...</td>\n",
              "      <td>...</td>\n",
              "      <td>...</td>\n",
              "      <td>...</td>\n",
              "      <td>...</td>\n",
              "      <td>...</td>\n",
              "      <td>...</td>\n",
              "    </tr>\n",
              "    <tr>\n",
              "      <th>66824</th>\n",
              "      <td>Baan Ratchadamri Condominium, Bangkok</td>\n",
              "      <td>฿160,000 /mo</td>\n",
              "      <td>185 Ratchadamri Road, Lumphini, Pathum Wan, Ba...</td>\n",
              "      <td>7 mins (500 m) to S1 Rachadamri BTS</td>\n",
              "      <td>Condo\\r\\nBuilt: 2014</td>\n",
              "      <td>267 sqm</td>\n",
              "      <td>3</td>\n",
              "      <td>4.0</td>\n",
              "      <td>฿599.99 / sqm</td>\n",
              "      <td>Accom Asia Co.,Ltd .</td>\n",
              "      <td>https://www.ddproperty.com/en/property/baan-ra...</td>\n",
              "    </tr>\n",
              "    <tr>\n",
              "      <th>66826</th>\n",
              "      <td>Casa Condo Asoke - Dindaeng, Bangkok</td>\n",
              "      <td>฿9,000 /mo</td>\n",
              "      <td>5801  Din Daeng Road, Din Daeng, Din Daeng, Ba...</td>\n",
              "      <td>NaN</td>\n",
              "      <td>Condo\\r\\nFully Furnished\\r\\nBuilt: 2013</td>\n",
              "      <td>26 sqm</td>\n",
              "      <td>Studio</td>\n",
              "      <td>NaN</td>\n",
              "      <td>฿346.15 / sqm</td>\n",
              "      <td>Bangkok Prime Property</td>\n",
              "      <td>https://www.ddproperty.com/en/property/casa-co...</td>\n",
              "    </tr>\n",
              "    <tr>\n",
              "      <th>66851</th>\n",
              "      <td>Dcondo Panaa, Bangkok</td>\n",
              "      <td>฿8,500 /mo</td>\n",
              "      <td>188 Liap Thang Rotfai Taling Chan Rd, Bang Khu...</td>\n",
              "      <td>NaN</td>\n",
              "      <td>New Project: 2023\\r\\nCondo\\r\\nFully Furnished</td>\n",
              "      <td>26 sqm</td>\n",
              "      <td>1</td>\n",
              "      <td>1.0</td>\n",
              "      <td>฿326.92 / sqm</td>\n",
              "      <td>พัทธนันท์ เชาวลิต</td>\n",
              "      <td>https://www.ddproperty.com/en/property/dcondo-...</td>\n",
              "    </tr>\n",
              "    <tr>\n",
              "      <th>66852</th>\n",
              "      <td>Dcondo Tann Charan, Bangkok</td>\n",
              "      <td>฿8,500 /mo</td>\n",
              "      <td>Liap Thang Rotfai Taling Chan Road, Bang Khun ...</td>\n",
              "      <td>NaN</td>\n",
              "      <td>Condo\\r\\nFully Furnished\\r\\nBuilt: 2020</td>\n",
              "      <td>27 sqm</td>\n",
              "      <td>Studio</td>\n",
              "      <td>NaN</td>\n",
              "      <td>฿314.81 / sqm</td>\n",
              "      <td>พัทธนันท์ เชาวลิต</td>\n",
              "      <td>https://www.ddproperty.com/en/property/dcondo-...</td>\n",
              "    </tr>\n",
              "    <tr>\n",
              "      <th>66857</th>\n",
              "      <td>Life Asoke-Rama 9, Bangkok</td>\n",
              "      <td>฿42,000 /mo</td>\n",
              "      <td>626 Asoke-Dindaeng Road, Ratchathewi, Bangkok</td>\n",
              "      <td>5 mins (340 m) to BL20 Phra Ram 9 MRT</td>\n",
              "      <td>Condo\\r\\nBuilt: 2020</td>\n",
              "      <td>58 sqm</td>\n",
              "      <td>2</td>\n",
              "      <td>2.0</td>\n",
              "      <td>฿724.14 / sqm</td>\n",
              "      <td>Eva Wang</td>\n",
              "      <td>https://www.ddproperty.com/en/property/life-as...</td>\n",
              "    </tr>\n",
              "  </tbody>\n",
              "</table>\n",
              "<p>13241 rows × 11 columns</p>\n",
              "</div>\n",
              "    <div class=\"colab-df-buttons\">\n",
              "\n",
              "  <div class=\"colab-df-container\">\n",
              "    <button class=\"colab-df-convert\" onclick=\"convertToInteractive('df-ae046ccf-9899-495e-9bf4-134f673eaaa8')\"\n",
              "            title=\"Convert this dataframe to an interactive table.\"\n",
              "            style=\"display:none;\">\n",
              "\n",
              "  <svg xmlns=\"http://www.w3.org/2000/svg\" height=\"24px\" viewBox=\"0 -960 960 960\">\n",
              "    <path d=\"M120-120v-720h720v720H120Zm60-500h600v-160H180v160Zm220 220h160v-160H400v160Zm0 220h160v-160H400v160ZM180-400h160v-160H180v160Zm440 0h160v-160H620v160ZM180-180h160v-160H180v160Zm440 0h160v-160H620v160Z\"/>\n",
              "  </svg>\n",
              "    </button>\n",
              "\n",
              "  <style>\n",
              "    .colab-df-container {\n",
              "      display:flex;\n",
              "      gap: 12px;\n",
              "    }\n",
              "\n",
              "    .colab-df-convert {\n",
              "      background-color: #E8F0FE;\n",
              "      border: none;\n",
              "      border-radius: 50%;\n",
              "      cursor: pointer;\n",
              "      display: none;\n",
              "      fill: #1967D2;\n",
              "      height: 32px;\n",
              "      padding: 0 0 0 0;\n",
              "      width: 32px;\n",
              "    }\n",
              "\n",
              "    .colab-df-convert:hover {\n",
              "      background-color: #E2EBFA;\n",
              "      box-shadow: 0px 1px 2px rgba(60, 64, 67, 0.3), 0px 1px 3px 1px rgba(60, 64, 67, 0.15);\n",
              "      fill: #174EA6;\n",
              "    }\n",
              "\n",
              "    .colab-df-buttons div {\n",
              "      margin-bottom: 4px;\n",
              "    }\n",
              "\n",
              "    [theme=dark] .colab-df-convert {\n",
              "      background-color: #3B4455;\n",
              "      fill: #D2E3FC;\n",
              "    }\n",
              "\n",
              "    [theme=dark] .colab-df-convert:hover {\n",
              "      background-color: #434B5C;\n",
              "      box-shadow: 0px 1px 3px 1px rgba(0, 0, 0, 0.15);\n",
              "      filter: drop-shadow(0px 1px 2px rgba(0, 0, 0, 0.3));\n",
              "      fill: #FFFFFF;\n",
              "    }\n",
              "  </style>\n",
              "\n",
              "    <script>\n",
              "      const buttonEl =\n",
              "        document.querySelector('#df-ae046ccf-9899-495e-9bf4-134f673eaaa8 button.colab-df-convert');\n",
              "      buttonEl.style.display =\n",
              "        google.colab.kernel.accessAllowed ? 'block' : 'none';\n",
              "\n",
              "      async function convertToInteractive(key) {\n",
              "        const element = document.querySelector('#df-ae046ccf-9899-495e-9bf4-134f673eaaa8');\n",
              "        const dataTable =\n",
              "          await google.colab.kernel.invokeFunction('convertToInteractive',\n",
              "                                                    [key], {});\n",
              "        if (!dataTable) return;\n",
              "\n",
              "        const docLinkHtml = 'Like what you see? Visit the ' +\n",
              "          '<a target=\"_blank\" href=https://colab.research.google.com/notebooks/data_table.ipynb>data table notebook</a>'\n",
              "          + ' to learn more about interactive tables.';\n",
              "        element.innerHTML = '';\n",
              "        dataTable['output_type'] = 'display_data';\n",
              "        await google.colab.output.renderOutput(dataTable, element);\n",
              "        const docLink = document.createElement('div');\n",
              "        docLink.innerHTML = docLinkHtml;\n",
              "        element.appendChild(docLink);\n",
              "      }\n",
              "    </script>\n",
              "  </div>\n",
              "\n",
              "\n",
              "<div id=\"df-69f42d19-ef66-46a0-bf58-2811a12b1d86\">\n",
              "  <button class=\"colab-df-quickchart\" onclick=\"quickchart('df-69f42d19-ef66-46a0-bf58-2811a12b1d86')\"\n",
              "            title=\"Suggest charts\"\n",
              "            style=\"display:none;\">\n",
              "\n",
              "<svg xmlns=\"http://www.w3.org/2000/svg\" height=\"24px\"viewBox=\"0 0 24 24\"\n",
              "     width=\"24px\">\n",
              "    <g>\n",
              "        <path d=\"M19 3H5c-1.1 0-2 .9-2 2v14c0 1.1.9 2 2 2h14c1.1 0 2-.9 2-2V5c0-1.1-.9-2-2-2zM9 17H7v-7h2v7zm4 0h-2V7h2v10zm4 0h-2v-4h2v4z\"/>\n",
              "    </g>\n",
              "</svg>\n",
              "  </button>\n",
              "\n",
              "<style>\n",
              "  .colab-df-quickchart {\n",
              "      --bg-color: #E8F0FE;\n",
              "      --fill-color: #1967D2;\n",
              "      --hover-bg-color: #E2EBFA;\n",
              "      --hover-fill-color: #174EA6;\n",
              "      --disabled-fill-color: #AAA;\n",
              "      --disabled-bg-color: #DDD;\n",
              "  }\n",
              "\n",
              "  [theme=dark] .colab-df-quickchart {\n",
              "      --bg-color: #3B4455;\n",
              "      --fill-color: #D2E3FC;\n",
              "      --hover-bg-color: #434B5C;\n",
              "      --hover-fill-color: #FFFFFF;\n",
              "      --disabled-bg-color: #3B4455;\n",
              "      --disabled-fill-color: #666;\n",
              "  }\n",
              "\n",
              "  .colab-df-quickchart {\n",
              "    background-color: var(--bg-color);\n",
              "    border: none;\n",
              "    border-radius: 50%;\n",
              "    cursor: pointer;\n",
              "    display: none;\n",
              "    fill: var(--fill-color);\n",
              "    height: 32px;\n",
              "    padding: 0;\n",
              "    width: 32px;\n",
              "  }\n",
              "\n",
              "  .colab-df-quickchart:hover {\n",
              "    background-color: var(--hover-bg-color);\n",
              "    box-shadow: 0 1px 2px rgba(60, 64, 67, 0.3), 0 1px 3px 1px rgba(60, 64, 67, 0.15);\n",
              "    fill: var(--button-hover-fill-color);\n",
              "  }\n",
              "\n",
              "  .colab-df-quickchart-complete:disabled,\n",
              "  .colab-df-quickchart-complete:disabled:hover {\n",
              "    background-color: var(--disabled-bg-color);\n",
              "    fill: var(--disabled-fill-color);\n",
              "    box-shadow: none;\n",
              "  }\n",
              "\n",
              "  .colab-df-spinner {\n",
              "    border: 2px solid var(--fill-color);\n",
              "    border-color: transparent;\n",
              "    border-bottom-color: var(--fill-color);\n",
              "    animation:\n",
              "      spin 1s steps(1) infinite;\n",
              "  }\n",
              "\n",
              "  @keyframes spin {\n",
              "    0% {\n",
              "      border-color: transparent;\n",
              "      border-bottom-color: var(--fill-color);\n",
              "      border-left-color: var(--fill-color);\n",
              "    }\n",
              "    20% {\n",
              "      border-color: transparent;\n",
              "      border-left-color: var(--fill-color);\n",
              "      border-top-color: var(--fill-color);\n",
              "    }\n",
              "    30% {\n",
              "      border-color: transparent;\n",
              "      border-left-color: var(--fill-color);\n",
              "      border-top-color: var(--fill-color);\n",
              "      border-right-color: var(--fill-color);\n",
              "    }\n",
              "    40% {\n",
              "      border-color: transparent;\n",
              "      border-right-color: var(--fill-color);\n",
              "      border-top-color: var(--fill-color);\n",
              "    }\n",
              "    60% {\n",
              "      border-color: transparent;\n",
              "      border-right-color: var(--fill-color);\n",
              "    }\n",
              "    80% {\n",
              "      border-color: transparent;\n",
              "      border-right-color: var(--fill-color);\n",
              "      border-bottom-color: var(--fill-color);\n",
              "    }\n",
              "    90% {\n",
              "      border-color: transparent;\n",
              "      border-bottom-color: var(--fill-color);\n",
              "    }\n",
              "  }\n",
              "</style>\n",
              "\n",
              "  <script>\n",
              "    async function quickchart(key) {\n",
              "      const quickchartButtonEl =\n",
              "        document.querySelector('#' + key + ' button');\n",
              "      quickchartButtonEl.disabled = true;  // To prevent multiple clicks.\n",
              "      quickchartButtonEl.classList.add('colab-df-spinner');\n",
              "      try {\n",
              "        const charts = await google.colab.kernel.invokeFunction(\n",
              "            'suggestCharts', [key], {});\n",
              "      } catch (error) {\n",
              "        console.error('Error during call to suggestCharts:', error);\n",
              "      }\n",
              "      quickchartButtonEl.classList.remove('colab-df-spinner');\n",
              "      quickchartButtonEl.classList.add('colab-df-quickchart-complete');\n",
              "    }\n",
              "    (() => {\n",
              "      let quickchartButtonEl =\n",
              "        document.querySelector('#df-69f42d19-ef66-46a0-bf58-2811a12b1d86 button');\n",
              "      quickchartButtonEl.style.display =\n",
              "        google.colab.kernel.accessAllowed ? 'block' : 'none';\n",
              "    })();\n",
              "  </script>\n",
              "</div>\n",
              "    </div>\n",
              "  </div>\n"
            ]
          },
          "metadata": {},
          "execution_count": 47
        }
      ]
    },
    {
      "cell_type": "markdown",
      "source": [
        "Drop duplicated values."
      ],
      "metadata": {
        "id": "rDSJ2rT28xXf"
      }
    },
    {
      "cell_type": "code",
      "source": [
        "df = df.drop_duplicates(subset=['link'], keep='first')"
      ],
      "metadata": {
        "id": "-cZjuXITtQwr"
      },
      "execution_count": 48,
      "outputs": []
    },
    {
      "cell_type": "markdown",
      "source": [
        "### Correcting errors, Adding Necessary Columns, Removing Unwanted Columns"
      ],
      "metadata": {
        "id": "4hudOEDUtper"
      }
    },
    {
      "cell_type": "markdown",
      "source": [
        "Extract necessary word to create new columns"
      ],
      "metadata": {
        "id": "l9403_8z8WuO"
      }
    },
    {
      "cell_type": "markdown",
      "source": [
        "Strip words, creating new columns by extracing from address"
      ],
      "metadata": {
        "id": "Z_1T606l8YU4"
      }
    },
    {
      "cell_type": "code",
      "source": [
        "df['address'] = df['address'].str.lstrip('-.,')"
      ],
      "metadata": {
        "colab": {
          "base_uri": "https://localhost:8080/"
        },
        "id": "AoGXtv5W8mX5",
        "outputId": "2b52e3e8-6b9b-415e-f293-e3f7a577de55"
      },
      "execution_count": 49,
      "outputs": [
        {
          "output_type": "stream",
          "name": "stderr",
          "text": [
            "<ipython-input-49-262d756f7de3>:1: SettingWithCopyWarning: \n",
            "A value is trying to be set on a copy of a slice from a DataFrame.\n",
            "Try using .loc[row_indexer,col_indexer] = value instead\n",
            "\n",
            "See the caveats in the documentation: https://pandas.pydata.org/pandas-docs/stable/user_guide/indexing.html#returning-a-view-versus-a-copy\n",
            "  df['address'] = df['address'].str.lstrip('-.,')\n"
          ]
        }
      ]
    },
    {
      "cell_type": "code",
      "source": [
        "df['province'] = df['address'].str.extract(r'([A-z]+$)')"
      ],
      "metadata": {
        "colab": {
          "base_uri": "https://localhost:8080/"
        },
        "id": "o5I1Eljl9aP7",
        "outputId": "e627a6a0-6163-4b4c-fac0-c7a3050a67c2"
      },
      "execution_count": 50,
      "outputs": [
        {
          "output_type": "stream",
          "name": "stderr",
          "text": [
            "<ipython-input-50-ec64d8d04433>:1: SettingWithCopyWarning: \n",
            "A value is trying to be set on a copy of a slice from a DataFrame.\n",
            "Try using .loc[row_indexer,col_indexer] = value instead\n",
            "\n",
            "See the caveats in the documentation: https://pandas.pydata.org/pandas-docs/stable/user_guide/indexing.html#returning-a-view-versus-a-copy\n",
            "  df['province'] = df['address'].str.extract(r'([A-z]+$)')\n"
          ]
        }
      ]
    },
    {
      "cell_type": "code",
      "source": [
        "df['district'] = df['address'].str.extract(r'[A-z].+\\,\\s([A-z].+)\\,\\s[A-z].+$')"
      ],
      "metadata": {
        "colab": {
          "base_uri": "https://localhost:8080/"
        },
        "id": "4IfzBh0R9bE6",
        "outputId": "443228e1-3c68-4a9c-fcee-74294bfc77e6"
      },
      "execution_count": 51,
      "outputs": [
        {
          "output_type": "stream",
          "name": "stderr",
          "text": [
            "<ipython-input-51-257ab49b1adb>:1: SettingWithCopyWarning: \n",
            "A value is trying to be set on a copy of a slice from a DataFrame.\n",
            "Try using .loc[row_indexer,col_indexer] = value instead\n",
            "\n",
            "See the caveats in the documentation: https://pandas.pydata.org/pandas-docs/stable/user_guide/indexing.html#returning-a-view-versus-a-copy\n",
            "  df['district'] = df['address'].str.extract(r'[A-z].+\\,\\s([A-z].+)\\,\\s[A-z].+$')\n"
          ]
        }
      ]
    },
    {
      "cell_type": "markdown",
      "source": [
        "Create new column using price_p_month, remove unwanted words from column rental price"
      ],
      "metadata": {
        "id": "d6BvZj1Q8aX9"
      }
    },
    {
      "cell_type": "code",
      "source": [
        "df['rental_price'] = df['price_p_month'].str.extract(r'([0-9].+)\\W')"
      ],
      "metadata": {
        "colab": {
          "base_uri": "https://localhost:8080/"
        },
        "id": "7mFhneoG8nf6",
        "outputId": "f2c2b341-f379-4f4d-e05b-68b82b4b0bad"
      },
      "execution_count": 52,
      "outputs": [
        {
          "output_type": "stream",
          "name": "stderr",
          "text": [
            "<ipython-input-52-27e9087ccd7e>:1: SettingWithCopyWarning: \n",
            "A value is trying to be set on a copy of a slice from a DataFrame.\n",
            "Try using .loc[row_indexer,col_indexer] = value instead\n",
            "\n",
            "See the caveats in the documentation: https://pandas.pydata.org/pandas-docs/stable/user_guide/indexing.html#returning-a-view-versus-a-copy\n",
            "  df['rental_price'] = df['price_p_month'].str.extract(r'([0-9].+)\\W')\n"
          ]
        }
      ]
    },
    {
      "cell_type": "code",
      "source": [
        "df['rental_price'] = df['rental_price'].str.replace(',', '')"
      ],
      "metadata": {
        "colab": {
          "base_uri": "https://localhost:8080/"
        },
        "id": "_YDxfcWK9ZBk",
        "outputId": "f4d15bb8-5125-44e9-fe71-c6f043c683c9"
      },
      "execution_count": 53,
      "outputs": [
        {
          "output_type": "stream",
          "name": "stderr",
          "text": [
            "<ipython-input-53-49562f156d98>:1: SettingWithCopyWarning: \n",
            "A value is trying to be set on a copy of a slice from a DataFrame.\n",
            "Try using .loc[row_indexer,col_indexer] = value instead\n",
            "\n",
            "See the caveats in the documentation: https://pandas.pydata.org/pandas-docs/stable/user_guide/indexing.html#returning-a-view-versus-a-copy\n",
            "  df['rental_price'] = df['rental_price'].str.replace(',', '')\n"
          ]
        }
      ]
    },
    {
      "cell_type": "markdown",
      "source": [
        "Create new columns built_year, is_furnished and type using condo_details"
      ],
      "metadata": {
        "id": "2ym_ZsGs8cEJ"
      }
    },
    {
      "cell_type": "code",
      "source": [
        "df['built_year'] = df['condo_details'].str.extract(r'Built: (\\d{4})')"
      ],
      "metadata": {
        "colab": {
          "base_uri": "https://localhost:8080/"
        },
        "id": "r2-teSVM8ovu",
        "outputId": "cf81e743-e329-4849-eb8a-363ff4851501"
      },
      "execution_count": 54,
      "outputs": [
        {
          "output_type": "stream",
          "name": "stderr",
          "text": [
            "<ipython-input-54-0c9ab9084573>:1: SettingWithCopyWarning: \n",
            "A value is trying to be set on a copy of a slice from a DataFrame.\n",
            "Try using .loc[row_indexer,col_indexer] = value instead\n",
            "\n",
            "See the caveats in the documentation: https://pandas.pydata.org/pandas-docs/stable/user_guide/indexing.html#returning-a-view-versus-a-copy\n",
            "  df['built_year'] = df['condo_details'].str.extract(r'Built: (\\d{4})')\n"
          ]
        }
      ]
    },
    {
      "cell_type": "code",
      "source": [
        "df['is_furnished'] = df['condo_details'].str.extract(r'(Fully Furnished|Unfurnished|Partially Furnished)')"
      ],
      "metadata": {
        "colab": {
          "base_uri": "https://localhost:8080/"
        },
        "id": "ew1S_8SC9Wpw",
        "outputId": "8306784f-2611-4c9a-af85-a713ff3ce016"
      },
      "execution_count": 55,
      "outputs": [
        {
          "output_type": "stream",
          "name": "stderr",
          "text": [
            "<ipython-input-55-3b646a38bd6f>:1: SettingWithCopyWarning: \n",
            "A value is trying to be set on a copy of a slice from a DataFrame.\n",
            "Try using .loc[row_indexer,col_indexer] = value instead\n",
            "\n",
            "See the caveats in the documentation: https://pandas.pydata.org/pandas-docs/stable/user_guide/indexing.html#returning-a-view-versus-a-copy\n",
            "  df['is_furnished'] = df['condo_details'].str.extract(r'(Fully Furnished|Unfurnished|Partially Furnished)')\n"
          ]
        }
      ]
    },
    {
      "cell_type": "code",
      "source": [
        "df['type'] = df['condo_details'].str.extract(r'^(\\w+)')"
      ],
      "metadata": {
        "colab": {
          "base_uri": "https://localhost:8080/"
        },
        "id": "M4XmBzSV9XgM",
        "outputId": "df7e95fa-7b00-43d7-e4cc-118949819fc9"
      },
      "execution_count": 56,
      "outputs": [
        {
          "output_type": "stream",
          "name": "stderr",
          "text": [
            "<ipython-input-56-dfc5497f0417>:1: SettingWithCopyWarning: \n",
            "A value is trying to be set on a copy of a slice from a DataFrame.\n",
            "Try using .loc[row_indexer,col_indexer] = value instead\n",
            "\n",
            "See the caveats in the documentation: https://pandas.pydata.org/pandas-docs/stable/user_guide/indexing.html#returning-a-view-versus-a-copy\n",
            "  df['type'] = df['condo_details'].str.extract(r'^(\\w+)')\n"
          ]
        }
      ]
    },
    {
      "cell_type": "markdown",
      "source": [
        "Create new columns from station"
      ],
      "metadata": {
        "id": "7JpaLdA38dEb"
      }
    },
    {
      "cell_type": "code",
      "source": [
        "df['transportation'] = df['station'].str.extract(r'\\b((?:MRT|BTS|BRT|Airport Link))\\b')"
      ],
      "metadata": {
        "colab": {
          "base_uri": "https://localhost:8080/"
        },
        "id": "PSUgJby-8qLd",
        "outputId": "6e30803f-2f0a-4906-9a79-ac9629d05f85"
      },
      "execution_count": 57,
      "outputs": [
        {
          "output_type": "stream",
          "name": "stderr",
          "text": [
            "<ipython-input-57-c73ba0c874b0>:1: SettingWithCopyWarning: \n",
            "A value is trying to be set on a copy of a slice from a DataFrame.\n",
            "Try using .loc[row_indexer,col_indexer] = value instead\n",
            "\n",
            "See the caveats in the documentation: https://pandas.pydata.org/pandas-docs/stable/user_guide/indexing.html#returning-a-view-versus-a-copy\n",
            "  df['transportation'] = df['station'].str.extract(r'\\b((?:MRT|BTS|BRT|Airport Link))\\b')\n"
          ]
        }
      ]
    },
    {
      "cell_type": "code",
      "source": [
        "df['station_names'] = df['station'].str.extract(r'\\bto\\s(.+)\\s')"
      ],
      "metadata": {
        "colab": {
          "base_uri": "https://localhost:8080/"
        },
        "id": "g3z_0WcX9UmE",
        "outputId": "9526623a-683c-43e7-b4fd-18bed6adb2ed"
      },
      "execution_count": 58,
      "outputs": [
        {
          "output_type": "stream",
          "name": "stderr",
          "text": [
            "<ipython-input-58-c79ae352b602>:1: SettingWithCopyWarning: \n",
            "A value is trying to be set on a copy of a slice from a DataFrame.\n",
            "Try using .loc[row_indexer,col_indexer] = value instead\n",
            "\n",
            "See the caveats in the documentation: https://pandas.pydata.org/pandas-docs/stable/user_guide/indexing.html#returning-a-view-versus-a-copy\n",
            "  df['station_names'] = df['station'].str.extract(r'\\bto\\s(.+)\\s')\n"
          ]
        }
      ]
    },
    {
      "cell_type": "code",
      "source": [
        "df['distance_from_station'] = df['station'].str.extract(r'\\((\\d+\\s+m)\\)')"
      ],
      "metadata": {
        "colab": {
          "base_uri": "https://localhost:8080/"
        },
        "id": "ODamwGXA9Vii",
        "outputId": "dc683833-8da1-441a-b72a-678b2069ea97"
      },
      "execution_count": 59,
      "outputs": [
        {
          "output_type": "stream",
          "name": "stderr",
          "text": [
            "<ipython-input-59-9710970e1a75>:1: SettingWithCopyWarning: \n",
            "A value is trying to be set on a copy of a slice from a DataFrame.\n",
            "Try using .loc[row_indexer,col_indexer] = value instead\n",
            "\n",
            "See the caveats in the documentation: https://pandas.pydata.org/pandas-docs/stable/user_guide/indexing.html#returning-a-view-versus-a-copy\n",
            "  df['distance_from_station'] = df['station'].str.extract(r'\\((\\d+\\s+m)\\)')\n"
          ]
        }
      ]
    },
    {
      "cell_type": "markdown",
      "source": [
        "Clean data in bedroom column, replace 'studio' with '0' instead. I also assume room type studio have 1 bathroom"
      ],
      "metadata": {
        "id": "zzXWUw0Q8eCT"
      }
    },
    {
      "cell_type": "code",
      "source": [
        "df['bedroom'] = df['bedroom'].str.strip()"
      ],
      "metadata": {
        "colab": {
          "base_uri": "https://localhost:8080/"
        },
        "id": "HGGaUMVV8rKB",
        "outputId": "249d0504-a0cb-4b75-94cf-33fb12fcc949"
      },
      "execution_count": 60,
      "outputs": [
        {
          "output_type": "stream",
          "name": "stderr",
          "text": [
            "<ipython-input-60-2df540a68679>:1: SettingWithCopyWarning: \n",
            "A value is trying to be set on a copy of a slice from a DataFrame.\n",
            "Try using .loc[row_indexer,col_indexer] = value instead\n",
            "\n",
            "See the caveats in the documentation: https://pandas.pydata.org/pandas-docs/stable/user_guide/indexing.html#returning-a-view-versus-a-copy\n",
            "  df['bedroom'] = df['bedroom'].str.strip()\n"
          ]
        }
      ]
    },
    {
      "cell_type": "code",
      "source": [
        "df['bedroom'] = df['bedroom'].str.replace('Studio', '0')"
      ],
      "metadata": {
        "colab": {
          "base_uri": "https://localhost:8080/"
        },
        "id": "kTh-96E89Smd",
        "outputId": "12dbc9c8-84dd-47a9-a09e-07da6759d8b9"
      },
      "execution_count": 61,
      "outputs": [
        {
          "output_type": "stream",
          "name": "stderr",
          "text": [
            "<ipython-input-61-7b9f6dc8c4ef>:1: SettingWithCopyWarning: \n",
            "A value is trying to be set on a copy of a slice from a DataFrame.\n",
            "Try using .loc[row_indexer,col_indexer] = value instead\n",
            "\n",
            "See the caveats in the documentation: https://pandas.pydata.org/pandas-docs/stable/user_guide/indexing.html#returning-a-view-versus-a-copy\n",
            "  df['bedroom'] = df['bedroom'].str.replace('Studio', '0')\n"
          ]
        }
      ]
    },
    {
      "cell_type": "code",
      "source": [
        "df.loc[df['bedroom'] == '0', 'bathroom'] = 1"
      ],
      "metadata": {
        "id": "bqoyGWjb9TW0"
      },
      "execution_count": 62,
      "outputs": []
    },
    {
      "cell_type": "markdown",
      "source": [
        "remove sqm for each rows"
      ],
      "metadata": {
        "id": "uTIEof-Y8flG"
      }
    },
    {
      "cell_type": "code",
      "source": [
        "df['room_size'] = df['room_size'].str.strip(' sqm')"
      ],
      "metadata": {
        "colab": {
          "base_uri": "https://localhost:8080/"
        },
        "id": "Cpyb0SEG8kB7",
        "outputId": "92cf2988-1c64-474e-9d79-ffaf066b34e9"
      },
      "execution_count": 63,
      "outputs": [
        {
          "output_type": "stream",
          "name": "stderr",
          "text": [
            "<ipython-input-63-cbc706a2c2db>:1: SettingWithCopyWarning: \n",
            "A value is trying to be set on a copy of a slice from a DataFrame.\n",
            "Try using .loc[row_indexer,col_indexer] = value instead\n",
            "\n",
            "See the caveats in the documentation: https://pandas.pydata.org/pandas-docs/stable/user_guide/indexing.html#returning-a-view-versus-a-copy\n",
            "  df['room_size'] = df['room_size'].str.strip(' sqm')\n"
          ]
        }
      ]
    },
    {
      "cell_type": "markdown",
      "source": [
        "Remove unwanted words from column price per sqm"
      ],
      "metadata": {
        "id": "gnMaF8ME8g8R"
      }
    },
    {
      "cell_type": "code",
      "source": [
        "df['price_per_sqm'] = df['price_per_sqm'].str.extract(r'\\W(\\d+.\\d+)\\W')"
      ],
      "metadata": {
        "colab": {
          "base_uri": "https://localhost:8080/"
        },
        "id": "z_kxWatx8iPw",
        "outputId": "f90db87c-a32f-4c5b-bafb-c3d807e0c10a"
      },
      "execution_count": 64,
      "outputs": [
        {
          "output_type": "stream",
          "name": "stderr",
          "text": [
            "<ipython-input-64-bcee0c1d1a9f>:1: SettingWithCopyWarning: \n",
            "A value is trying to be set on a copy of a slice from a DataFrame.\n",
            "Try using .loc[row_indexer,col_indexer] = value instead\n",
            "\n",
            "See the caveats in the documentation: https://pandas.pydata.org/pandas-docs/stable/user_guide/indexing.html#returning-a-view-versus-a-copy\n",
            "  df['price_per_sqm'] = df['price_per_sqm'].str.extract(r'\\W(\\d+.\\d+)\\W')\n"
          ]
        }
      ]
    },
    {
      "cell_type": "code",
      "source": [
        "df['price_per_sqm'] = df['price_per_sqm'].str.replace(',', '')"
      ],
      "metadata": {
        "colab": {
          "base_uri": "https://localhost:8080/"
        },
        "id": "AzIZADvA9PkC",
        "outputId": "ba7bacc5-cbab-45ea-d0ed-998dcf9d2943"
      },
      "execution_count": 65,
      "outputs": [
        {
          "output_type": "stream",
          "name": "stderr",
          "text": [
            "<ipython-input-65-643976ee19a9>:1: SettingWithCopyWarning: \n",
            "A value is trying to be set on a copy of a slice from a DataFrame.\n",
            "Try using .loc[row_indexer,col_indexer] = value instead\n",
            "\n",
            "See the caveats in the documentation: https://pandas.pydata.org/pandas-docs/stable/user_guide/indexing.html#returning-a-view-versus-a-copy\n",
            "  df['price_per_sqm'] = df['price_per_sqm'].str.replace(',', '')\n"
          ]
        }
      ]
    },
    {
      "cell_type": "markdown",
      "source": [
        "Drop unwanted columns"
      ],
      "metadata": {
        "id": "sjDAS0LM8Tp7"
      }
    },
    {
      "cell_type": "code",
      "source": [
        "df.drop(['price_p_month', 'condo_details', 'station'], axis=1, inplace=True)"
      ],
      "metadata": {
        "id": "9r9Foe21GgJJ",
        "colab": {
          "base_uri": "https://localhost:8080/"
        },
        "outputId": "4c280e10-ce55-496e-e4ac-08b53b7b99c9"
      },
      "execution_count": 66,
      "outputs": [
        {
          "output_type": "stream",
          "name": "stderr",
          "text": [
            "<ipython-input-66-516f4b0a3afc>:1: SettingWithCopyWarning: \n",
            "A value is trying to be set on a copy of a slice from a DataFrame\n",
            "\n",
            "See the caveats in the documentation: https://pandas.pydata.org/pandas-docs/stable/user_guide/indexing.html#returning-a-view-versus-a-copy\n",
            "  df.drop(['price_p_month', 'condo_details', 'station'], axis=1, inplace=True)\n"
          ]
        }
      ]
    },
    {
      "cell_type": "markdown",
      "source": [
        "Reindex columns"
      ],
      "metadata": {
        "id": "XwsL31yI8SnR"
      }
    },
    {
      "cell_type": "code",
      "source": [
        "cols = ['name', 'type', 'address', 'province', 'district', 'agency', 'link',\n",
        "        'built_year', 'room_size', 'bedroom', 'bathroom', 'is_furnished',\n",
        "        'transportation', 'station_names', 'distance_from_station', 'price_per_sqm', 'rental_price']"
      ],
      "metadata": {
        "id": "5Bi5s8I2MJQ0"
      },
      "execution_count": 67,
      "outputs": []
    },
    {
      "cell_type": "code",
      "source": [
        "df = df.reindex(columns=cols)"
      ],
      "metadata": {
        "id": "c6h5F_jp9N68"
      },
      "execution_count": 68,
      "outputs": []
    },
    {
      "cell_type": "markdown",
      "source": [
        "### Handling missing values."
      ],
      "metadata": {
        "id": "02A70DUYwd3Z"
      }
    },
    {
      "cell_type": "markdown",
      "source": [
        "I assume these columns should not be null. So I drop if Null"
      ],
      "metadata": {
        "id": "aT5VYZrQ8RU5"
      }
    },
    {
      "cell_type": "code",
      "source": [
        "df = df.dropna(subset=['rental_price', 'bedroom', 'bathroom', 'room_size', 'price_per_sqm'])"
      ],
      "metadata": {
        "id": "4nb_svWmypvV"
      },
      "execution_count": 69,
      "outputs": []
    },
    {
      "cell_type": "markdown",
      "source": [
        "### Changing Data types"
      ],
      "metadata": {
        "id": "UqE4THrCysiz"
      }
    },
    {
      "cell_type": "markdown",
      "source": [
        "mapping value to Boolean then converting to boolean"
      ],
      "metadata": {
        "id": "WWkjeMNz8L_z"
      }
    },
    {
      "cell_type": "code",
      "source": [
        "mapping = {'Partially Furnished': True, 'Fully Furnished': True, 'Unfurnished': False}"
      ],
      "metadata": {
        "id": "E4ixx_pY2HJk"
      },
      "execution_count": 70,
      "outputs": []
    },
    {
      "cell_type": "code",
      "source": [
        "df['is_furnished'] = df['is_furnished'].replace(mapping).astype('bool')"
      ],
      "metadata": {
        "id": "UGe-ZPWg9MaR"
      },
      "execution_count": 71,
      "outputs": []
    },
    {
      "cell_type": "markdown",
      "source": [
        "Change data types to proper type"
      ],
      "metadata": {
        "id": "PTGLJhOX8Jh1"
      }
    },
    {
      "cell_type": "code",
      "source": [
        "df.loc[:, :'link'] = df.loc[:, :'link'].astype(str)\n",
        "df['price_per_sqm'] = df['price_per_sqm'].astype(float)\n",
        "df[['room_size', 'bedroom', 'bathroom', 'rental_price']] = df[['room_size', 'bedroom', 'bathroom', 'rental_price']].astype(int)"
      ],
      "metadata": {
        "id": "PNbhwkrkNXcQ"
      },
      "execution_count": 72,
      "outputs": []
    },
    {
      "cell_type": "markdown",
      "source": [
        "# Check data types again"
      ],
      "metadata": {
        "id": "b2bOaSyb8IKJ"
      }
    },
    {
      "cell_type": "code",
      "source": [
        "df.info()"
      ],
      "metadata": {
        "colab": {
          "base_uri": "https://localhost:8080/"
        },
        "id": "uuykDLmW2iTc",
        "outputId": "c51ccf56-3ccf-47eb-e0b3-dce67706d943"
      },
      "execution_count": 73,
      "outputs": [
        {
          "output_type": "stream",
          "name": "stdout",
          "text": [
            "<class 'pandas.core.frame.DataFrame'>\n",
            "Int64Index: 41289 entries, 10003 to 66873\n",
            "Data columns (total 17 columns):\n",
            " #   Column                 Non-Null Count  Dtype  \n",
            "---  ------                 --------------  -----  \n",
            " 0   name                   41289 non-null  object \n",
            " 1   type                   41289 non-null  object \n",
            " 2   address                41289 non-null  object \n",
            " 3   province               41289 non-null  object \n",
            " 4   district               41289 non-null  object \n",
            " 5   agency                 41289 non-null  object \n",
            " 6   link                   41289 non-null  object \n",
            " 7   built_year             39292 non-null  object \n",
            " 8   room_size              41289 non-null  int64  \n",
            " 9   bedroom                41289 non-null  int64  \n",
            " 10  bathroom               41289 non-null  int64  \n",
            " 11  is_furnished           41289 non-null  bool   \n",
            " 12  transportation         35520 non-null  object \n",
            " 13  station_names          35647 non-null  object \n",
            " 14  distance_from_station  35647 non-null  object \n",
            " 15  price_per_sqm          41289 non-null  float64\n",
            " 16  rental_price           41289 non-null  int64  \n",
            "dtypes: bool(1), float64(1), int64(4), object(11)\n",
            "memory usage: 5.4+ MB\n"
          ]
        }
      ]
    },
    {
      "cell_type": "markdown",
      "source": [
        "I use .describe() to identify dataset statistic and found that price_per_sqm and rental_price are weird."
      ],
      "metadata": {
        "id": "GiU4cfXr8FY1"
      }
    },
    {
      "cell_type": "code",
      "source": [
        "df.describe()"
      ],
      "metadata": {
        "colab": {
          "base_uri": "https://localhost:8080/",
          "height": 300
        },
        "id": "nPXsGongUXE6",
        "outputId": "77ff364d-581c-4d00-b678-ab3fa2c82026"
      },
      "execution_count": 74,
      "outputs": [
        {
          "output_type": "execute_result",
          "data": {
            "text/plain": [
              "          room_size       bedroom      bathroom  price_per_sqm  rental_price\n",
              "count  41289.000000  41289.000000  41289.000000   41289.000000  4.128900e+04\n",
              "mean      70.681102      1.503984      1.502240    2843.668538  6.309642e+05\n",
              "std       79.765572      0.748078      0.773834   22307.219903  8.439837e+07\n",
              "min        2.000000      0.000000      1.000000       2.040000  1.900000e+03\n",
              "25%       35.000000      1.000000      1.000000     460.000000  2.000000e+04\n",
              "50%       50.000000      1.000000      1.000000     609.760000  3.200000e+04\n",
              "75%       78.000000      2.000000      2.000000     800.000000  5.500000e+04\n",
              "max     9330.000000      7.000000      9.000000  614973.000000  1.714092e+10"
            ],
            "text/html": [
              "\n",
              "  <div id=\"df-43530ced-4d35-4a70-90b8-dd8dde60251a\" class=\"colab-df-container\">\n",
              "    <div>\n",
              "<style scoped>\n",
              "    .dataframe tbody tr th:only-of-type {\n",
              "        vertical-align: middle;\n",
              "    }\n",
              "\n",
              "    .dataframe tbody tr th {\n",
              "        vertical-align: top;\n",
              "    }\n",
              "\n",
              "    .dataframe thead th {\n",
              "        text-align: right;\n",
              "    }\n",
              "</style>\n",
              "<table border=\"1\" class=\"dataframe\">\n",
              "  <thead>\n",
              "    <tr style=\"text-align: right;\">\n",
              "      <th></th>\n",
              "      <th>room_size</th>\n",
              "      <th>bedroom</th>\n",
              "      <th>bathroom</th>\n",
              "      <th>price_per_sqm</th>\n",
              "      <th>rental_price</th>\n",
              "    </tr>\n",
              "  </thead>\n",
              "  <tbody>\n",
              "    <tr>\n",
              "      <th>count</th>\n",
              "      <td>41289.000000</td>\n",
              "      <td>41289.000000</td>\n",
              "      <td>41289.000000</td>\n",
              "      <td>41289.000000</td>\n",
              "      <td>4.128900e+04</td>\n",
              "    </tr>\n",
              "    <tr>\n",
              "      <th>mean</th>\n",
              "      <td>70.681102</td>\n",
              "      <td>1.503984</td>\n",
              "      <td>1.502240</td>\n",
              "      <td>2843.668538</td>\n",
              "      <td>6.309642e+05</td>\n",
              "    </tr>\n",
              "    <tr>\n",
              "      <th>std</th>\n",
              "      <td>79.765572</td>\n",
              "      <td>0.748078</td>\n",
              "      <td>0.773834</td>\n",
              "      <td>22307.219903</td>\n",
              "      <td>8.439837e+07</td>\n",
              "    </tr>\n",
              "    <tr>\n",
              "      <th>min</th>\n",
              "      <td>2.000000</td>\n",
              "      <td>0.000000</td>\n",
              "      <td>1.000000</td>\n",
              "      <td>2.040000</td>\n",
              "      <td>1.900000e+03</td>\n",
              "    </tr>\n",
              "    <tr>\n",
              "      <th>25%</th>\n",
              "      <td>35.000000</td>\n",
              "      <td>1.000000</td>\n",
              "      <td>1.000000</td>\n",
              "      <td>460.000000</td>\n",
              "      <td>2.000000e+04</td>\n",
              "    </tr>\n",
              "    <tr>\n",
              "      <th>50%</th>\n",
              "      <td>50.000000</td>\n",
              "      <td>1.000000</td>\n",
              "      <td>1.000000</td>\n",
              "      <td>609.760000</td>\n",
              "      <td>3.200000e+04</td>\n",
              "    </tr>\n",
              "    <tr>\n",
              "      <th>75%</th>\n",
              "      <td>78.000000</td>\n",
              "      <td>2.000000</td>\n",
              "      <td>2.000000</td>\n",
              "      <td>800.000000</td>\n",
              "      <td>5.500000e+04</td>\n",
              "    </tr>\n",
              "    <tr>\n",
              "      <th>max</th>\n",
              "      <td>9330.000000</td>\n",
              "      <td>7.000000</td>\n",
              "      <td>9.000000</td>\n",
              "      <td>614973.000000</td>\n",
              "      <td>1.714092e+10</td>\n",
              "    </tr>\n",
              "  </tbody>\n",
              "</table>\n",
              "</div>\n",
              "    <div class=\"colab-df-buttons\">\n",
              "\n",
              "  <div class=\"colab-df-container\">\n",
              "    <button class=\"colab-df-convert\" onclick=\"convertToInteractive('df-43530ced-4d35-4a70-90b8-dd8dde60251a')\"\n",
              "            title=\"Convert this dataframe to an interactive table.\"\n",
              "            style=\"display:none;\">\n",
              "\n",
              "  <svg xmlns=\"http://www.w3.org/2000/svg\" height=\"24px\" viewBox=\"0 -960 960 960\">\n",
              "    <path d=\"M120-120v-720h720v720H120Zm60-500h600v-160H180v160Zm220 220h160v-160H400v160Zm0 220h160v-160H400v160ZM180-400h160v-160H180v160Zm440 0h160v-160H620v160ZM180-180h160v-160H180v160Zm440 0h160v-160H620v160Z\"/>\n",
              "  </svg>\n",
              "    </button>\n",
              "\n",
              "  <style>\n",
              "    .colab-df-container {\n",
              "      display:flex;\n",
              "      gap: 12px;\n",
              "    }\n",
              "\n",
              "    .colab-df-convert {\n",
              "      background-color: #E8F0FE;\n",
              "      border: none;\n",
              "      border-radius: 50%;\n",
              "      cursor: pointer;\n",
              "      display: none;\n",
              "      fill: #1967D2;\n",
              "      height: 32px;\n",
              "      padding: 0 0 0 0;\n",
              "      width: 32px;\n",
              "    }\n",
              "\n",
              "    .colab-df-convert:hover {\n",
              "      background-color: #E2EBFA;\n",
              "      box-shadow: 0px 1px 2px rgba(60, 64, 67, 0.3), 0px 1px 3px 1px rgba(60, 64, 67, 0.15);\n",
              "      fill: #174EA6;\n",
              "    }\n",
              "\n",
              "    .colab-df-buttons div {\n",
              "      margin-bottom: 4px;\n",
              "    }\n",
              "\n",
              "    [theme=dark] .colab-df-convert {\n",
              "      background-color: #3B4455;\n",
              "      fill: #D2E3FC;\n",
              "    }\n",
              "\n",
              "    [theme=dark] .colab-df-convert:hover {\n",
              "      background-color: #434B5C;\n",
              "      box-shadow: 0px 1px 3px 1px rgba(0, 0, 0, 0.15);\n",
              "      filter: drop-shadow(0px 1px 2px rgba(0, 0, 0, 0.3));\n",
              "      fill: #FFFFFF;\n",
              "    }\n",
              "  </style>\n",
              "\n",
              "    <script>\n",
              "      const buttonEl =\n",
              "        document.querySelector('#df-43530ced-4d35-4a70-90b8-dd8dde60251a button.colab-df-convert');\n",
              "      buttonEl.style.display =\n",
              "        google.colab.kernel.accessAllowed ? 'block' : 'none';\n",
              "\n",
              "      async function convertToInteractive(key) {\n",
              "        const element = document.querySelector('#df-43530ced-4d35-4a70-90b8-dd8dde60251a');\n",
              "        const dataTable =\n",
              "          await google.colab.kernel.invokeFunction('convertToInteractive',\n",
              "                                                    [key], {});\n",
              "        if (!dataTable) return;\n",
              "\n",
              "        const docLinkHtml = 'Like what you see? Visit the ' +\n",
              "          '<a target=\"_blank\" href=https://colab.research.google.com/notebooks/data_table.ipynb>data table notebook</a>'\n",
              "          + ' to learn more about interactive tables.';\n",
              "        element.innerHTML = '';\n",
              "        dataTable['output_type'] = 'display_data';\n",
              "        await google.colab.output.renderOutput(dataTable, element);\n",
              "        const docLink = document.createElement('div');\n",
              "        docLink.innerHTML = docLinkHtml;\n",
              "        element.appendChild(docLink);\n",
              "      }\n",
              "    </script>\n",
              "  </div>\n",
              "\n",
              "\n",
              "<div id=\"df-6bc0f5ec-e789-4828-a740-e2e520f0169e\">\n",
              "  <button class=\"colab-df-quickchart\" onclick=\"quickchart('df-6bc0f5ec-e789-4828-a740-e2e520f0169e')\"\n",
              "            title=\"Suggest charts\"\n",
              "            style=\"display:none;\">\n",
              "\n",
              "<svg xmlns=\"http://www.w3.org/2000/svg\" height=\"24px\"viewBox=\"0 0 24 24\"\n",
              "     width=\"24px\">\n",
              "    <g>\n",
              "        <path d=\"M19 3H5c-1.1 0-2 .9-2 2v14c0 1.1.9 2 2 2h14c1.1 0 2-.9 2-2V5c0-1.1-.9-2-2-2zM9 17H7v-7h2v7zm4 0h-2V7h2v10zm4 0h-2v-4h2v4z\"/>\n",
              "    </g>\n",
              "</svg>\n",
              "  </button>\n",
              "\n",
              "<style>\n",
              "  .colab-df-quickchart {\n",
              "      --bg-color: #E8F0FE;\n",
              "      --fill-color: #1967D2;\n",
              "      --hover-bg-color: #E2EBFA;\n",
              "      --hover-fill-color: #174EA6;\n",
              "      --disabled-fill-color: #AAA;\n",
              "      --disabled-bg-color: #DDD;\n",
              "  }\n",
              "\n",
              "  [theme=dark] .colab-df-quickchart {\n",
              "      --bg-color: #3B4455;\n",
              "      --fill-color: #D2E3FC;\n",
              "      --hover-bg-color: #434B5C;\n",
              "      --hover-fill-color: #FFFFFF;\n",
              "      --disabled-bg-color: #3B4455;\n",
              "      --disabled-fill-color: #666;\n",
              "  }\n",
              "\n",
              "  .colab-df-quickchart {\n",
              "    background-color: var(--bg-color);\n",
              "    border: none;\n",
              "    border-radius: 50%;\n",
              "    cursor: pointer;\n",
              "    display: none;\n",
              "    fill: var(--fill-color);\n",
              "    height: 32px;\n",
              "    padding: 0;\n",
              "    width: 32px;\n",
              "  }\n",
              "\n",
              "  .colab-df-quickchart:hover {\n",
              "    background-color: var(--hover-bg-color);\n",
              "    box-shadow: 0 1px 2px rgba(60, 64, 67, 0.3), 0 1px 3px 1px rgba(60, 64, 67, 0.15);\n",
              "    fill: var(--button-hover-fill-color);\n",
              "  }\n",
              "\n",
              "  .colab-df-quickchart-complete:disabled,\n",
              "  .colab-df-quickchart-complete:disabled:hover {\n",
              "    background-color: var(--disabled-bg-color);\n",
              "    fill: var(--disabled-fill-color);\n",
              "    box-shadow: none;\n",
              "  }\n",
              "\n",
              "  .colab-df-spinner {\n",
              "    border: 2px solid var(--fill-color);\n",
              "    border-color: transparent;\n",
              "    border-bottom-color: var(--fill-color);\n",
              "    animation:\n",
              "      spin 1s steps(1) infinite;\n",
              "  }\n",
              "\n",
              "  @keyframes spin {\n",
              "    0% {\n",
              "      border-color: transparent;\n",
              "      border-bottom-color: var(--fill-color);\n",
              "      border-left-color: var(--fill-color);\n",
              "    }\n",
              "    20% {\n",
              "      border-color: transparent;\n",
              "      border-left-color: var(--fill-color);\n",
              "      border-top-color: var(--fill-color);\n",
              "    }\n",
              "    30% {\n",
              "      border-color: transparent;\n",
              "      border-left-color: var(--fill-color);\n",
              "      border-top-color: var(--fill-color);\n",
              "      border-right-color: var(--fill-color);\n",
              "    }\n",
              "    40% {\n",
              "      border-color: transparent;\n",
              "      border-right-color: var(--fill-color);\n",
              "      border-top-color: var(--fill-color);\n",
              "    }\n",
              "    60% {\n",
              "      border-color: transparent;\n",
              "      border-right-color: var(--fill-color);\n",
              "    }\n",
              "    80% {\n",
              "      border-color: transparent;\n",
              "      border-right-color: var(--fill-color);\n",
              "      border-bottom-color: var(--fill-color);\n",
              "    }\n",
              "    90% {\n",
              "      border-color: transparent;\n",
              "      border-bottom-color: var(--fill-color);\n",
              "    }\n",
              "  }\n",
              "</style>\n",
              "\n",
              "  <script>\n",
              "    async function quickchart(key) {\n",
              "      const quickchartButtonEl =\n",
              "        document.querySelector('#' + key + ' button');\n",
              "      quickchartButtonEl.disabled = true;  // To prevent multiple clicks.\n",
              "      quickchartButtonEl.classList.add('colab-df-spinner');\n",
              "      try {\n",
              "        const charts = await google.colab.kernel.invokeFunction(\n",
              "            'suggestCharts', [key], {});\n",
              "      } catch (error) {\n",
              "        console.error('Error during call to suggestCharts:', error);\n",
              "      }\n",
              "      quickchartButtonEl.classList.remove('colab-df-spinner');\n",
              "      quickchartButtonEl.classList.add('colab-df-quickchart-complete');\n",
              "    }\n",
              "    (() => {\n",
              "      let quickchartButtonEl =\n",
              "        document.querySelector('#df-6bc0f5ec-e789-4828-a740-e2e520f0169e button');\n",
              "      quickchartButtonEl.style.display =\n",
              "        google.colab.kernel.accessAllowed ? 'block' : 'none';\n",
              "    })();\n",
              "  </script>\n",
              "</div>\n",
              "    </div>\n",
              "  </div>\n"
            ]
          },
          "metadata": {},
          "execution_count": 74
        }
      ]
    },
    {
      "cell_type": "markdown",
      "source": [
        "### Removing outlier"
      ],
      "metadata": {
        "id": "XyJrjx-15vQC"
      }
    },
    {
      "cell_type": "markdown",
      "source": [
        "I assume they set the wrong price if rental price is higher than 300,000 baht and have only 1 bedroom"
      ],
      "metadata": {
        "id": "da-6ADtK8DkE"
      }
    },
    {
      "cell_type": "code",
      "source": [
        "final_df = df.loc[((df['rental_price'] <= 300000) | (df['bedroom'] >= 2)) & (df['price_per_sqm'] < 40000) & (df['rental_price'] < 800000)]"
      ],
      "metadata": {
        "id": "sQzeOojkz8iA"
      },
      "execution_count": 75,
      "outputs": []
    },
    {
      "cell_type": "markdown",
      "source": [
        "finally I use .describe() again to identify dataset statistic"
      ],
      "metadata": {
        "id": "K04FRhze8CLe"
      }
    },
    {
      "cell_type": "code",
      "source": [
        "final_df.describe()"
      ],
      "metadata": {
        "colab": {
          "base_uri": "https://localhost:8080/",
          "height": 300
        },
        "id": "1MuNZYFs3H5W",
        "outputId": "80d87e0c-010e-4b1f-c3db-bf7ef8b31d79"
      },
      "execution_count": 76,
      "outputs": [
        {
          "output_type": "execute_result",
          "data": {
            "text/plain": [
              "          room_size       bedroom      bathroom  price_per_sqm   rental_price\n",
              "count  40797.000000  40797.000000  40797.000000   40797.000000   40797.000000\n",
              "mean      70.640831      1.502316      1.500846     654.838965   45616.063289\n",
              "std       79.909081      0.747533      0.772404     302.630312   46089.174544\n",
              "min        2.000000      0.000000      1.000000       2.040000    1900.000000\n",
              "25%       35.000000      1.000000      1.000000     457.140000   20000.000000\n",
              "50%       50.000000      1.000000      1.000000     606.060000   32000.000000\n",
              "75%       78.000000      2.000000      2.000000     791.370000   55000.000000\n",
              "max     9330.000000      7.000000      9.000000   13333.000000  750000.000000"
            ],
            "text/html": [
              "\n",
              "  <div id=\"df-65bf403a-d325-4985-b0fe-bce63be25c02\" class=\"colab-df-container\">\n",
              "    <div>\n",
              "<style scoped>\n",
              "    .dataframe tbody tr th:only-of-type {\n",
              "        vertical-align: middle;\n",
              "    }\n",
              "\n",
              "    .dataframe tbody tr th {\n",
              "        vertical-align: top;\n",
              "    }\n",
              "\n",
              "    .dataframe thead th {\n",
              "        text-align: right;\n",
              "    }\n",
              "</style>\n",
              "<table border=\"1\" class=\"dataframe\">\n",
              "  <thead>\n",
              "    <tr style=\"text-align: right;\">\n",
              "      <th></th>\n",
              "      <th>room_size</th>\n",
              "      <th>bedroom</th>\n",
              "      <th>bathroom</th>\n",
              "      <th>price_per_sqm</th>\n",
              "      <th>rental_price</th>\n",
              "    </tr>\n",
              "  </thead>\n",
              "  <tbody>\n",
              "    <tr>\n",
              "      <th>count</th>\n",
              "      <td>40797.000000</td>\n",
              "      <td>40797.000000</td>\n",
              "      <td>40797.000000</td>\n",
              "      <td>40797.000000</td>\n",
              "      <td>40797.000000</td>\n",
              "    </tr>\n",
              "    <tr>\n",
              "      <th>mean</th>\n",
              "      <td>70.640831</td>\n",
              "      <td>1.502316</td>\n",
              "      <td>1.500846</td>\n",
              "      <td>654.838965</td>\n",
              "      <td>45616.063289</td>\n",
              "    </tr>\n",
              "    <tr>\n",
              "      <th>std</th>\n",
              "      <td>79.909081</td>\n",
              "      <td>0.747533</td>\n",
              "      <td>0.772404</td>\n",
              "      <td>302.630312</td>\n",
              "      <td>46089.174544</td>\n",
              "    </tr>\n",
              "    <tr>\n",
              "      <th>min</th>\n",
              "      <td>2.000000</td>\n",
              "      <td>0.000000</td>\n",
              "      <td>1.000000</td>\n",
              "      <td>2.040000</td>\n",
              "      <td>1900.000000</td>\n",
              "    </tr>\n",
              "    <tr>\n",
              "      <th>25%</th>\n",
              "      <td>35.000000</td>\n",
              "      <td>1.000000</td>\n",
              "      <td>1.000000</td>\n",
              "      <td>457.140000</td>\n",
              "      <td>20000.000000</td>\n",
              "    </tr>\n",
              "    <tr>\n",
              "      <th>50%</th>\n",
              "      <td>50.000000</td>\n",
              "      <td>1.000000</td>\n",
              "      <td>1.000000</td>\n",
              "      <td>606.060000</td>\n",
              "      <td>32000.000000</td>\n",
              "    </tr>\n",
              "    <tr>\n",
              "      <th>75%</th>\n",
              "      <td>78.000000</td>\n",
              "      <td>2.000000</td>\n",
              "      <td>2.000000</td>\n",
              "      <td>791.370000</td>\n",
              "      <td>55000.000000</td>\n",
              "    </tr>\n",
              "    <tr>\n",
              "      <th>max</th>\n",
              "      <td>9330.000000</td>\n",
              "      <td>7.000000</td>\n",
              "      <td>9.000000</td>\n",
              "      <td>13333.000000</td>\n",
              "      <td>750000.000000</td>\n",
              "    </tr>\n",
              "  </tbody>\n",
              "</table>\n",
              "</div>\n",
              "    <div class=\"colab-df-buttons\">\n",
              "\n",
              "  <div class=\"colab-df-container\">\n",
              "    <button class=\"colab-df-convert\" onclick=\"convertToInteractive('df-65bf403a-d325-4985-b0fe-bce63be25c02')\"\n",
              "            title=\"Convert this dataframe to an interactive table.\"\n",
              "            style=\"display:none;\">\n",
              "\n",
              "  <svg xmlns=\"http://www.w3.org/2000/svg\" height=\"24px\" viewBox=\"0 -960 960 960\">\n",
              "    <path d=\"M120-120v-720h720v720H120Zm60-500h600v-160H180v160Zm220 220h160v-160H400v160Zm0 220h160v-160H400v160ZM180-400h160v-160H180v160Zm440 0h160v-160H620v160ZM180-180h160v-160H180v160Zm440 0h160v-160H620v160Z\"/>\n",
              "  </svg>\n",
              "    </button>\n",
              "\n",
              "  <style>\n",
              "    .colab-df-container {\n",
              "      display:flex;\n",
              "      gap: 12px;\n",
              "    }\n",
              "\n",
              "    .colab-df-convert {\n",
              "      background-color: #E8F0FE;\n",
              "      border: none;\n",
              "      border-radius: 50%;\n",
              "      cursor: pointer;\n",
              "      display: none;\n",
              "      fill: #1967D2;\n",
              "      height: 32px;\n",
              "      padding: 0 0 0 0;\n",
              "      width: 32px;\n",
              "    }\n",
              "\n",
              "    .colab-df-convert:hover {\n",
              "      background-color: #E2EBFA;\n",
              "      box-shadow: 0px 1px 2px rgba(60, 64, 67, 0.3), 0px 1px 3px 1px rgba(60, 64, 67, 0.15);\n",
              "      fill: #174EA6;\n",
              "    }\n",
              "\n",
              "    .colab-df-buttons div {\n",
              "      margin-bottom: 4px;\n",
              "    }\n",
              "\n",
              "    [theme=dark] .colab-df-convert {\n",
              "      background-color: #3B4455;\n",
              "      fill: #D2E3FC;\n",
              "    }\n",
              "\n",
              "    [theme=dark] .colab-df-convert:hover {\n",
              "      background-color: #434B5C;\n",
              "      box-shadow: 0px 1px 3px 1px rgba(0, 0, 0, 0.15);\n",
              "      filter: drop-shadow(0px 1px 2px rgba(0, 0, 0, 0.3));\n",
              "      fill: #FFFFFF;\n",
              "    }\n",
              "  </style>\n",
              "\n",
              "    <script>\n",
              "      const buttonEl =\n",
              "        document.querySelector('#df-65bf403a-d325-4985-b0fe-bce63be25c02 button.colab-df-convert');\n",
              "      buttonEl.style.display =\n",
              "        google.colab.kernel.accessAllowed ? 'block' : 'none';\n",
              "\n",
              "      async function convertToInteractive(key) {\n",
              "        const element = document.querySelector('#df-65bf403a-d325-4985-b0fe-bce63be25c02');\n",
              "        const dataTable =\n",
              "          await google.colab.kernel.invokeFunction('convertToInteractive',\n",
              "                                                    [key], {});\n",
              "        if (!dataTable) return;\n",
              "\n",
              "        const docLinkHtml = 'Like what you see? Visit the ' +\n",
              "          '<a target=\"_blank\" href=https://colab.research.google.com/notebooks/data_table.ipynb>data table notebook</a>'\n",
              "          + ' to learn more about interactive tables.';\n",
              "        element.innerHTML = '';\n",
              "        dataTable['output_type'] = 'display_data';\n",
              "        await google.colab.output.renderOutput(dataTable, element);\n",
              "        const docLink = document.createElement('div');\n",
              "        docLink.innerHTML = docLinkHtml;\n",
              "        element.appendChild(docLink);\n",
              "      }\n",
              "    </script>\n",
              "  </div>\n",
              "\n",
              "\n",
              "<div id=\"df-ff56c963-0a65-4e1f-8532-fffea7445371\">\n",
              "  <button class=\"colab-df-quickchart\" onclick=\"quickchart('df-ff56c963-0a65-4e1f-8532-fffea7445371')\"\n",
              "            title=\"Suggest charts\"\n",
              "            style=\"display:none;\">\n",
              "\n",
              "<svg xmlns=\"http://www.w3.org/2000/svg\" height=\"24px\"viewBox=\"0 0 24 24\"\n",
              "     width=\"24px\">\n",
              "    <g>\n",
              "        <path d=\"M19 3H5c-1.1 0-2 .9-2 2v14c0 1.1.9 2 2 2h14c1.1 0 2-.9 2-2V5c0-1.1-.9-2-2-2zM9 17H7v-7h2v7zm4 0h-2V7h2v10zm4 0h-2v-4h2v4z\"/>\n",
              "    </g>\n",
              "</svg>\n",
              "  </button>\n",
              "\n",
              "<style>\n",
              "  .colab-df-quickchart {\n",
              "      --bg-color: #E8F0FE;\n",
              "      --fill-color: #1967D2;\n",
              "      --hover-bg-color: #E2EBFA;\n",
              "      --hover-fill-color: #174EA6;\n",
              "      --disabled-fill-color: #AAA;\n",
              "      --disabled-bg-color: #DDD;\n",
              "  }\n",
              "\n",
              "  [theme=dark] .colab-df-quickchart {\n",
              "      --bg-color: #3B4455;\n",
              "      --fill-color: #D2E3FC;\n",
              "      --hover-bg-color: #434B5C;\n",
              "      --hover-fill-color: #FFFFFF;\n",
              "      --disabled-bg-color: #3B4455;\n",
              "      --disabled-fill-color: #666;\n",
              "  }\n",
              "\n",
              "  .colab-df-quickchart {\n",
              "    background-color: var(--bg-color);\n",
              "    border: none;\n",
              "    border-radius: 50%;\n",
              "    cursor: pointer;\n",
              "    display: none;\n",
              "    fill: var(--fill-color);\n",
              "    height: 32px;\n",
              "    padding: 0;\n",
              "    width: 32px;\n",
              "  }\n",
              "\n",
              "  .colab-df-quickchart:hover {\n",
              "    background-color: var(--hover-bg-color);\n",
              "    box-shadow: 0 1px 2px rgba(60, 64, 67, 0.3), 0 1px 3px 1px rgba(60, 64, 67, 0.15);\n",
              "    fill: var(--button-hover-fill-color);\n",
              "  }\n",
              "\n",
              "  .colab-df-quickchart-complete:disabled,\n",
              "  .colab-df-quickchart-complete:disabled:hover {\n",
              "    background-color: var(--disabled-bg-color);\n",
              "    fill: var(--disabled-fill-color);\n",
              "    box-shadow: none;\n",
              "  }\n",
              "\n",
              "  .colab-df-spinner {\n",
              "    border: 2px solid var(--fill-color);\n",
              "    border-color: transparent;\n",
              "    border-bottom-color: var(--fill-color);\n",
              "    animation:\n",
              "      spin 1s steps(1) infinite;\n",
              "  }\n",
              "\n",
              "  @keyframes spin {\n",
              "    0% {\n",
              "      border-color: transparent;\n",
              "      border-bottom-color: var(--fill-color);\n",
              "      border-left-color: var(--fill-color);\n",
              "    }\n",
              "    20% {\n",
              "      border-color: transparent;\n",
              "      border-left-color: var(--fill-color);\n",
              "      border-top-color: var(--fill-color);\n",
              "    }\n",
              "    30% {\n",
              "      border-color: transparent;\n",
              "      border-left-color: var(--fill-color);\n",
              "      border-top-color: var(--fill-color);\n",
              "      border-right-color: var(--fill-color);\n",
              "    }\n",
              "    40% {\n",
              "      border-color: transparent;\n",
              "      border-right-color: var(--fill-color);\n",
              "      border-top-color: var(--fill-color);\n",
              "    }\n",
              "    60% {\n",
              "      border-color: transparent;\n",
              "      border-right-color: var(--fill-color);\n",
              "    }\n",
              "    80% {\n",
              "      border-color: transparent;\n",
              "      border-right-color: var(--fill-color);\n",
              "      border-bottom-color: var(--fill-color);\n",
              "    }\n",
              "    90% {\n",
              "      border-color: transparent;\n",
              "      border-bottom-color: var(--fill-color);\n",
              "    }\n",
              "  }\n",
              "</style>\n",
              "\n",
              "  <script>\n",
              "    async function quickchart(key) {\n",
              "      const quickchartButtonEl =\n",
              "        document.querySelector('#' + key + ' button');\n",
              "      quickchartButtonEl.disabled = true;  // To prevent multiple clicks.\n",
              "      quickchartButtonEl.classList.add('colab-df-spinner');\n",
              "      try {\n",
              "        const charts = await google.colab.kernel.invokeFunction(\n",
              "            'suggestCharts', [key], {});\n",
              "      } catch (error) {\n",
              "        console.error('Error during call to suggestCharts:', error);\n",
              "      }\n",
              "      quickchartButtonEl.classList.remove('colab-df-spinner');\n",
              "      quickchartButtonEl.classList.add('colab-df-quickchart-complete');\n",
              "    }\n",
              "    (() => {\n",
              "      let quickchartButtonEl =\n",
              "        document.querySelector('#df-ff56c963-0a65-4e1f-8532-fffea7445371 button');\n",
              "      quickchartButtonEl.style.display =\n",
              "        google.colab.kernel.accessAllowed ? 'block' : 'none';\n",
              "    })();\n",
              "  </script>\n",
              "</div>\n",
              "    </div>\n",
              "  </div>\n"
            ]
          },
          "metadata": {},
          "execution_count": 76
        }
      ]
    },
    {
      "cell_type": "markdown",
      "source": [
        "Export it as .csv file"
      ],
      "metadata": {
        "id": "glUf0J2m7_d6"
      }
    },
    {
      "cell_type": "code",
      "source": [
        "final_df.to_csv('final_rental_condo_data_bkk_jan_2024.csv', index=False, encoding='utf-8')"
      ],
      "metadata": {
        "id": "9qOHOoJIyz9I"
      },
      "execution_count": 77,
      "outputs": []
    }
  ]
}